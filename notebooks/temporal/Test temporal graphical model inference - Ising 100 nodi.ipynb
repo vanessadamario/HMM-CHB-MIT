{
 "cells": [
  {
   "cell_type": "code",
   "execution_count": null,
   "metadata": {},
   "outputs": [],
   "source": [
    "%matplotlib inline\n",
    "from importlib import reload\n",
    "from __future__ import print_function, division\n",
    "\n",
    "import numpy as np\n",
    "import matplotlib.pyplot as plt\n",
    "import pandas as pd\n",
    "\n",
    "from itertools import product\n",
    "from functools import partial\n",
    "from sklearn.datasets import make_sparse_spd_matrix\n",
    "from sklearn.datasets.base import Bunch\n",
    "from sklearn.utils.extmath import squared_norm\n",
    "from sklearn.covariance import GraphLasso, empirical_covariance\n",
    "from sklearn.datasets.base import Bunch\n",
    "from sklearn.model_selection import GridSearchCV, ShuffleSplit\n",
    "from sklearn.gaussian_process import kernels\n",
    "\n",
    "from regain import prox; reload(prox)\n",
    "from regain.covariance import time_graphical_lasso_; reload(time_graphical_lasso_);\n",
    "import time\n",
    "\n",
    "from regain.bayesian import wishart_process_; reload(wishart_process_)\n",
    "from regain.bayesian import stats; reload(stats)\n",
    "\n",
    "from regain import utils; reload(utils);\n"
   ]
  },
  {
   "cell_type": "markdown",
   "metadata": {},
   "source": [
    "# ISING"
   ]
  },
  {
   "cell_type": "code",
   "execution_count": null,
   "metadata": {},
   "outputs": [],
   "source": [
    "#devo generare dati temporali.. nel dubbio potrei farli tutti uguali, per cominciare\n",
    "#import regain.datasets.time; reload(regain.datasets.time)\n",
    "#import regain._datasets.ising; reload(regain._datasets.ising)\n",
    "import regain.datasets; reload(regain.datasets)\n",
    "from regain.datasets import make_dataset\n",
    "\n",
    "samples, thetas = make_dataset(\n",
    "        n_samples=100, n_dim_obs=50,  T=10,  update_theta='l1',\n",
    " distribution='ising', change=2)"
   ]
  },
  {
   "cell_type": "code",
   "execution_count": null,
   "metadata": {},
   "outputs": [],
   "source": [
    "import pickle as pkl\n",
    "with open(\"../../../../projects/time_exponential_family/data/data_ising_temporal_test_50nodes.pkl\", \"wb\") as f:\n",
    "    pkl.dump([samples, thetas], f)"
   ]
  },
  {
   "cell_type": "code",
   "execution_count": null,
   "metadata": {},
   "outputs": [],
   "source": [
    "# with open(\"../../../../projects/time_exponential_family/data/data_ising_temporal_test_50nodes.pkl\", \"rb\") as f:\n",
    "#     samples, thetas = pkl.load(f)"
   ]
  },
  {
   "cell_type": "code",
   "execution_count": null,
   "metadata": {},
   "outputs": [],
   "source": [
    "import regain.generalized_linear_model.ising; reload(regain.generalized_linear_model.ising)\n",
    "from regain.generalized_linear_model.ising import IsingGraphicalModel\n",
    "import regain.model_selection.stability_optimization; reload(regain.model_selection.stability_optimization)\n",
    "\n",
    "from regain.model_selection.stability_optimization import GraphicalModelStabilitySelection"
   ]
  },
  {
   "cell_type": "code",
   "execution_count": null,
   "metadata": {},
   "outputs": [],
   "source": [
    "ising_mdl = IsingGraphicalModel(alpha=0.32, mode='symmetric_fbs', verbose=0)\n",
    "\n",
    "params = []\n",
    "estimators = []\n",
    "for i in range(10):\n",
    "    cv = GraphicalModelStabilitySelection(ising_mdl, param_grid={'alpha':np.linspace(0.01, 1, 30)},\n",
    "                                          sampling_size=80,\n",
    "                                         n_repetitions=20)\n",
    "    cv.fit(samples[i])\n",
    "    params.append(cv.best_params_['alpha'])\n",
    "    estimators.append(cv.best_estimator_)\n",
    "    cv.plot()"
   ]
  },
  {
   "cell_type": "code",
   "execution_count": null,
   "metadata": {},
   "outputs": [],
   "source": [
    "from sklearn.model_selection import ShuffleSplit\n",
    "\n",
    "sss = ShuffleSplit(n_splits=10)\n",
    "\n",
    "precisions = []\n",
    "for train, test in sss.split(samples[0]):\n",
    "    precs= []\n",
    "    for i, e in enumerate(estimators):\n",
    "        e.fit(samples[i][train, :])\n",
    "        precs.append(e.precision_)\n",
    "    precisions.append(np.array(precs))"
   ]
  },
  {
   "cell_type": "code",
   "execution_count": null,
   "metadata": {},
   "outputs": [],
   "source": [
    "precisions[0].shape"
   ]
  },
  {
   "cell_type": "code",
   "execution_count": null,
   "metadata": {},
   "outputs": [],
   "source": [
    "from regain.plotting.results import plot_roc_curves\n",
    "plot_roc_curves(np.array(thetas), [np.abs(p) for p in precisions])"
   ]
  },
  {
   "cell_type": "code",
   "execution_count": null,
   "metadata": {},
   "outputs": [],
   "source": [
    "import pickle as pkl"
   ]
  },
  {
   "cell_type": "code",
   "execution_count": null,
   "metadata": {},
   "outputs": [],
   "source": [
    "import regain.model_selection.stability_optimization; reload(regain.model_selection.stability_optimization)\n",
    "from regain.model_selection.stability_optimization import GraphicalModelStabilitySelection\n",
    "cv = GraphicalModelStabilitySelection(mdl, param_grid={'alpha':np.linspace(0.1, 0.5, 50)},\n",
    "                                      sampling_size=800, plot=True, \n",
    "                                      n_repetitions=20)\n",
    "cv.fit(X, y)"
   ]
  },
  {
   "cell_type": "code",
   "execution_count": null,
   "metadata": {},
   "outputs": [],
   "source": [
    "#import regain.generalized_linear_model.time; reload(regain.generalized_linear_model.time)\n",
    "from regain.generalized_temporal_linear_model.ising import TemporalIsingModel\n",
    "\n",
    "from sklearn.gaussian_process import kernels\n",
    "\n",
    "kernel = kernels.RBF(length_scale=2)(np.arange(10)[:, None])\n",
    "#kernel = np.ones((10,10))*1\n",
    "#np.fill_diagonal(kernel, 1)\n",
    "mdl = TemporalIsingModel(\n",
    "        alpha=np.mean(params),  psi='l1', assume_centered=True, rtol=1e-5, tol=1e-4,\n",
    "        max_iter=300, rho=1.,  kernel=kernel,  init='zeros', verbose=0)\n",
    "\n",
    "X = np.vstack(samples)\n",
    "y = np.array([np.ones(x.shape[0]) * i\n",
    "              for i, x in enumerate(samples)]).flatten().astype(int)\n",
    "#base_results(mdl, X, y, K, thetas, ells, search_spaces=None)"
   ]
  },
  {
   "cell_type": "code",
   "execution_count": null,
   "metadata": {},
   "outputs": [],
   "source": [
    "mdl.fit(X, y)"
   ]
  },
  {
   "cell_type": "code",
   "execution_count": null,
   "metadata": {},
   "outputs": [],
   "source": [
    "from sklearn.model_selection import StratifiedShuffleSplit\n",
    "\n",
    "sss = StratifiedShuffleSplit(n_splits=10)\n",
    "\n",
    "precisions_time = []\n",
    "for train, test in sss.split(X, y):\n",
    "    mdl.fit(X[train, :], y[train])\n",
    "    precisions_time.append(mdl.precision_)"
   ]
  },
  {
   "cell_type": "code",
   "execution_count": null,
   "metadata": {},
   "outputs": [],
   "source": [
    "utils.structure_error(np.array(thetas), mdl.precision_, no_diagonal=True)"
   ]
  },
  {
   "cell_type": "code",
   "execution_count": null,
   "metadata": {},
   "outputs": [],
   "source": [
    "import regain.plotting.results; reload(regain.plotting.results)\n",
    "from regain.plotting.results import plot_roc_curves, plot_precision_recall_comparison, plot_roc_comparison\n",
    "\n",
    "plot_roc_comparison(np.abs(np.array(thetas)), {'TIGM':[np.abs(p) for p in precisions_time],\n",
    "                                                'IGM':[np.abs(p) for p in precisions]})"
   ]
  },
  {
   "cell_type": "code",
   "execution_count": null,
   "metadata": {},
   "outputs": [],
   "source": [
    "import regain.plotting.results; reload(regain.plotting.results)\n",
    "from regain.plotting.results import plot_roc_curves, plot_precision_recall_comparison, plot_roc_comparison\n",
    "\n",
    "plot_precision_recall_comparison(np.abs(np.array(thetas)), {'TIGM':[np.abs(p) for p in precisions_time],\n",
    "                                                'IGM':[np.abs(p) for p in precisions]})"
   ]
  },
  {
   "cell_type": "code",
   "execution_count": null,
   "metadata": {},
   "outputs": [],
   "source": [
    "import regain.utils; reload(regain.utils)\n",
    "from regain.utils import structure_error, mean_structure_error"
   ]
  },
  {
   "cell_type": "code",
   "execution_count": null,
   "metadata": {},
   "outputs": [],
   "source": [
    "mean_structure_error(np.array(thetas), [np.abs(p) for p in precisions])"
   ]
  },
  {
   "cell_type": "code",
   "execution_count": null,
   "metadata": {},
   "outputs": [],
   "source": [
    "mean_structure_error(np.array(thetas), [np.abs(p) for p in precisions_time])"
   ]
  },
  {
   "cell_type": "code",
   "execution_count": null,
   "metadata": {},
   "outputs": [],
   "source": []
  }
 ],
 "metadata": {
  "kernelspec": {
   "display_name": "Python 3",
   "language": "python",
   "name": "python3"
  },
  "language_info": {
   "codemirror_mode": {
    "name": "ipython",
    "version": 3
   },
   "file_extension": ".py",
   "mimetype": "text/x-python",
   "name": "python",
   "nbconvert_exporter": "python",
   "pygments_lexer": "ipython3",
   "version": "3.6.10"
  }
 },
 "nbformat": 4,
 "nbformat_minor": 2
}
