{
 "cells": [
  {
   "cell_type": "markdown",
   "metadata": {},
   "source": [
    "## devi installare rpy2"
   ]
  },
  {
   "cell_type": "code",
   "execution_count": 1,
   "metadata": {},
   "outputs": [
    {
     "ename": "ImportError",
     "evalue": "No module named matplotlib.pyplot",
     "output_type": "error",
     "traceback": [
      "\u001b[0;31m---------------------------------------------------------------------------\u001b[0m",
      "\u001b[0;31mImportError\u001b[0m                               Traceback (most recent call last)",
      "\u001b[0;32m<ipython-input-1-a3aa6c2031a3>\u001b[0m in \u001b[0;36m<module>\u001b[0;34m()\u001b[0m\n\u001b[0;32m----> 1\u001b[0;31m \u001b[0;32mfrom\u001b[0m \u001b[0mregain\u001b[0m\u001b[0;34m.\u001b[0m\u001b[0mdatasets\u001b[0m\u001b[0;34m.\u001b[0m\u001b[0mhmm\u001b[0m \u001b[0;32mimport\u001b[0m \u001b[0mgenerate_hmm\u001b[0m\u001b[0;34m\u001b[0m\u001b[0m\n\u001b[0m\u001b[1;32m      2\u001b[0m \u001b[0;32mfrom\u001b[0m \u001b[0mregain\u001b[0m\u001b[0;34m.\u001b[0m\u001b[0mhmm\u001b[0m\u001b[0;34m.\u001b[0m\u001b[0mhmm_graphical_lasso\u001b[0m \u001b[0;32mimport\u001b[0m \u001b[0mHMM_GraphicalLasso\u001b[0m\u001b[0;34m\u001b[0m\u001b[0m\n\u001b[1;32m      3\u001b[0m \u001b[0;32mimport\u001b[0m \u001b[0mnumpy\u001b[0m \u001b[0;32mas\u001b[0m \u001b[0mnp\u001b[0m\u001b[0;34m\u001b[0m\u001b[0m\n",
      "\u001b[0;32m/Users/vt908/Documents/git_repos/regain/regain/datasets/hmm.py\u001b[0m in \u001b[0;36m<module>\u001b[0;34m()\u001b[0m\n\u001b[1;32m      8\u001b[0m \u001b[0;31m#from regain.hmm.utils import cov2corr\u001b[0m\u001b[0;34m\u001b[0m\u001b[0;34m\u001b[0m\u001b[0m\n\u001b[1;32m      9\u001b[0m \u001b[0;32mfrom\u001b[0m \u001b[0mscipy\u001b[0m\u001b[0;34m.\u001b[0m\u001b[0mstats\u001b[0m \u001b[0;32mimport\u001b[0m \u001b[0mnorm\u001b[0m\u001b[0;34m\u001b[0m\u001b[0m\n\u001b[0;32m---> 10\u001b[0;31m \u001b[0;32mimport\u001b[0m \u001b[0mmatplotlib\u001b[0m\u001b[0;34m.\u001b[0m\u001b[0mpyplot\u001b[0m \u001b[0;32mas\u001b[0m \u001b[0mplt\u001b[0m\u001b[0;34m\u001b[0m\u001b[0m\n\u001b[0m\u001b[1;32m     11\u001b[0m \u001b[0;32mdef\u001b[0m \u001b[0misPSD\u001b[0m\u001b[0;34m(\u001b[0m\u001b[0mA\u001b[0m\u001b[0;34m,\u001b[0m \u001b[0mtol\u001b[0m\u001b[0;34m=\u001b[0m\u001b[0;36m1e-8\u001b[0m\u001b[0;34m)\u001b[0m\u001b[0;34m:\u001b[0m\u001b[0;34m\u001b[0m\u001b[0m\n\u001b[1;32m     12\u001b[0m     \u001b[0mE\u001b[0m \u001b[0;34m=\u001b[0m \u001b[0mnp\u001b[0m\u001b[0;34m.\u001b[0m\u001b[0mlinalg\u001b[0m\u001b[0;34m.\u001b[0m\u001b[0meigvalsh\u001b[0m\u001b[0;34m(\u001b[0m\u001b[0mA\u001b[0m\u001b[0;34m)\u001b[0m\u001b[0;34m\u001b[0m\u001b[0m\n",
      "\u001b[0;31mImportError\u001b[0m: No module named matplotlib.pyplot"
     ]
    }
   ],
   "source": [
    "from regain.datasets.hmm import generate_hmm\n",
    "from regain.hmm.hmm_graphical_lasso import HMM_GraphicalLasso \n",
    "import numpy as np"
   ]
  },
  {
   "cell_type": "code",
   "execution_count": null,
   "metadata": {},
   "outputs": [],
   "source": [
    "N_samples = 2000\n",
    "N_states = 5\n",
    "N_TS = 3\n",
    "sigma_Normal = 1\n",
    "\n",
    "dataset = generate_hmm(n_samples= N_samples,\n",
    "                       n_states=N_states,\n",
    "                       n_dim_obs=N_TS,\n",
    "                       mode_precisions='regain_random',\n",
    "                       mode_mean = 'Normal',\n",
    "                       transition_type='fixed',\n",
    "                       sigma=sigma_Normal)\n",
    "N_pred = 30"
   ]
  },
  {
   "cell_type": "code",
   "execution_count": 2,
   "metadata": {},
   "outputs": [
    {
     "ename": "ImportError",
     "evalue": "dlopen(/Users/vt908/opt/anaconda3/envs/py27/lib/python2.7/site-packages/rpy2/rinterface/_rinterface.so, 2): Library not loaded: @rpath/libicuuc.54.dylib\n  Referenced from: /Users/vt908/opt/anaconda3/envs/py27/lib/python2.7/site-packages/rpy2/rinterface/_rinterface.so\n  Reason: image not found",
     "output_type": "error",
     "traceback": [
      "\u001b[0;31m---------------------------------------------------------------------------\u001b[0m",
      "\u001b[0;31mImportError\u001b[0m                               Traceback (most recent call last)",
      "\u001b[0;32m<ipython-input-2-c279966ca66e>\u001b[0m in \u001b[0;36m<module>\u001b[0;34m()\u001b[0m\n\u001b[0;32m----> 1\u001b[0;31m \u001b[0;32mimport\u001b[0m \u001b[0mrpy2\u001b[0m\u001b[0;34m.\u001b[0m\u001b[0mrobjects\u001b[0m \u001b[0;32mas\u001b[0m \u001b[0mrobjects\u001b[0m\u001b[0;34m\u001b[0m\u001b[0m\n\u001b[0m",
      "\u001b[0;32m/Users/vt908/opt/anaconda3/envs/py27/lib/python2.7/site-packages/rpy2/robjects/__init__.py\u001b[0m in \u001b[0;36m<module>\u001b[0;34m()\u001b[0m\n\u001b[1;32m     14\u001b[0m \u001b[0;32mimport\u001b[0m \u001b[0mitertools\u001b[0m\u001b[0;34m\u001b[0m\u001b[0m\n\u001b[1;32m     15\u001b[0m \u001b[0;32mfrom\u001b[0m \u001b[0mdatetime\u001b[0m \u001b[0;32mimport\u001b[0m \u001b[0mdatetime\u001b[0m\u001b[0;34m\u001b[0m\u001b[0m\n\u001b[0;32m---> 16\u001b[0;31m \u001b[0;32mimport\u001b[0m \u001b[0mrpy2\u001b[0m\u001b[0;34m.\u001b[0m\u001b[0mrinterface\u001b[0m \u001b[0;32mas\u001b[0m \u001b[0mrinterface\u001b[0m\u001b[0;34m\u001b[0m\u001b[0m\n\u001b[0m\u001b[1;32m     17\u001b[0m \u001b[0;32mimport\u001b[0m \u001b[0mrpy2\u001b[0m\u001b[0;34m.\u001b[0m\u001b[0mrlike\u001b[0m\u001b[0;34m.\u001b[0m\u001b[0mcontainer\u001b[0m \u001b[0;32mas\u001b[0m \u001b[0mrlc\u001b[0m\u001b[0;34m\u001b[0m\u001b[0m\n\u001b[1;32m     18\u001b[0m \u001b[0;34m\u001b[0m\u001b[0m\n",
      "\u001b[0;32m/Users/vt908/opt/anaconda3/envs/py27/lib/python2.7/site-packages/rpy2/rinterface/__init__.py\u001b[0m in \u001b[0;36m<module>\u001b[0;34m()\u001b[0m\n\u001b[1;32m     90\u001b[0m \u001b[0;32mdel\u001b[0m\u001b[0;34m(\u001b[0m\u001b[0mos\u001b[0m\u001b[0;34m)\u001b[0m\u001b[0;34m\u001b[0m\u001b[0m\n\u001b[1;32m     91\u001b[0m \u001b[0;34m\u001b[0m\u001b[0m\n\u001b[0;32m---> 92\u001b[0;31m from rpy2.rinterface._rinterface import (baseenv,\n\u001b[0m\u001b[1;32m     93\u001b[0m                                          \u001b[0memptyenv\u001b[0m\u001b[0;34m,\u001b[0m\u001b[0;34m\u001b[0m\u001b[0m\n\u001b[1;32m     94\u001b[0m                                          \u001b[0mendr\u001b[0m\u001b[0;34m,\u001b[0m\u001b[0;34m\u001b[0m\u001b[0m\n",
      "\u001b[0;31mImportError\u001b[0m: dlopen(/Users/vt908/opt/anaconda3/envs/py27/lib/python2.7/site-packages/rpy2/rinterface/_rinterface.so, 2): Library not loaded: @rpath/libicuuc.54.dylib\n  Referenced from: /Users/vt908/opt/anaconda3/envs/py27/lib/python2.7/site-packages/rpy2/rinterface/_rinterface.so\n  Reason: image not found"
     ]
    }
   ],
   "source": [
    "import rpy2.robjects as robjects"
   ]
  },
  {
   "cell_type": "code",
   "execution_count": null,
   "metadata": {},
   "outputs": [],
   "source": [
    "p_vec_0 = np.random.uniform(0,10,N_TS)+2000\n",
    "Data = np.zeros((np.size(dataset['data'],axis=0),N_TS))\n",
    "print(p_vec_0)\n",
    "for j in range(N_TS):\n",
    "    #print(p_vec_0[j])\n",
    "    #print(np.cumsum(dataset['data'][:,j]))\n",
    "    plt.plot(p_vec_0[j]+np.cumsum(dataset['data'][:,j]))\n",
    "    Data[:,j] = p_vec_0[j]+np.cumsum(dataset['data'][:,j])\n",
    "    \n",
    "plt.show()"
   ]
  },
  {
   "cell_type": "code",
   "execution_count": null,
   "metadata": {},
   "outputs": [],
   "source": [
    "N_pred = 10"
   ]
  },
  {
   "cell_type": "code",
   "execution_count": null,
   "metadata": {},
   "outputs": [],
   "source": [
    "from regain.hmm.utils_pred import reg_pred_HMM_GMM\n",
    "ret_pred,_, Val_Pred =   reg_pred_HMM_GMM(dataset['data'],\n",
    "                                   Data,\n",
    "                                   [0,15,30,45],\n",
    "                                   [2,3,4,5],\n",
    "                                   N_retrain = N_pred,\n",
    "                                   N_val = 10,\n",
    "                                   p=2,\n",
    "                                   N_test = 10,\n",
    "                                   meth = 'viterbi',\n",
    "                                   pred_meth = 'rolling',\n",
    "                                   recrossval = False,\n",
    "                                   CV_meth = 'reg')"
   ]
  },
  {
   "cell_type": "code",
   "execution_count": null,
   "metadata": {},
   "outputs": [],
   "source": [
    "print(np.mean(abs(Val_Pred-Data[-N_pred:,:])))\n",
    "print(Data[-N_pred:,:])\n",
    "print(Val_Pred)\n",
    "res_regre.append(Val_Pred)\n",
    "methods.append('HHM_GGM')"
   ]
  },
  {
   "cell_type": "code",
   "execution_count": null,
   "metadata": {},
   "outputs": [],
   "source": [
    "methods = ['lgb','LSTM','VAR','Kernel_RBF']\n",
    "\n",
    "res_regre = []\n",
    "\n",
    "for meth in methods:\n",
    "\n",
    "    _, Val_pred, _ = pred_regression_methods(Data,dataset['data'],\n",
    "                                    N_test=N_pred,\n",
    "                                    method = meth,\n",
    "                                    N_val = 10,\n",
    "                                    pred_meth = 'rolling',\n",
    "                                    p = 2,\n",
    "                                    plot=False)\n",
    "    res_regre.append(Val_pred)"
   ]
  },
  {
   "cell_type": "code",
   "execution_count": null,
   "metadata": {},
   "outputs": [],
   "source": [
    "from regain.hmm.utils_pred import reg_pred_HMM_GMM\n",
    "_,_, Val_Pred = reg_pred_HMM_GMM(dataset['data'],\n",
    "                       Data,\n",
    "                       [0,5,10,15,28,35,50],\n",
    "                       [N_states],\n",
    "                       N_retrain = 10,\n",
    "                       p=2,\n",
    "                       N_test = N_pred,\n",
    "                       meth = 'viterbi',\n",
    "                       pred_meth = 'rolling',\n",
    "                       recrossval = False)\n",
    "res_regre.append(Val_Pred)\n",
    "methods.append('HHM_GGM2')"
   ]
  },
  {
   "cell_type": "code",
   "execution_count": null,
   "metadata": {},
   "outputs": [],
   "source": [
    "figsizex=15\n",
    "figsizey=20\n",
    "N_per_rows=2\n",
    "N_mem = 10\n",
    "N_test = N_pred\n",
    "Dates = None\n",
    "columns = None\n",
    "N_TS = np.size(Data, axis=1)\n",
    "\n",
    "N_rows = int(np.ceil(N_TS / N_per_rows))\n",
    "f, axes = plt.subplots(N_rows, N_per_rows, figsize=(figsizex, figsizey))\n",
    "\n",
    "for ts in range(N_TS):\n",
    "    i = int(ts / N_per_rows)\n",
    "    j = np.remainder(ts, N_per_rows)\n",
    "    \n",
    "    for n,Value_pred in enumerate(res_regre):\n",
    "\n",
    "        if Dates is None:\n",
    "            x_mem = np.arange(N_mem + N_test)\n",
    "            x = np.arange(N_mem,N_mem + N_test)\n",
    "            if n==0:\n",
    "                axes[i, j].plot(x_mem, Data[-(N_mem+N_test):,ts],label='real')\n",
    "                #axes[i, j].plot(x, Data[-(N_test):,ts], 'o', label='real')\n",
    "            axes[i, j].plot(x, Value_pred[:,ts],  label='pred '+str(methods[n]))\n",
    "            if columns is None:\n",
    "                axes[i, j].set_title('var ' + str(ts) + ' forecast')\n",
    "            else:\n",
    "                axes[i, j].set_title(str(columns[ts]) + ' forecast')\n",
    "\n",
    "        axes[i, j].legend()"
   ]
  },
  {
   "cell_type": "code",
   "execution_count": null,
   "metadata": {},
   "outputs": [],
   "source": [
    "# CV hmm_gmm \n",
    "\n",
    "hmm_gmm = HMM_GraphicalLasso(alpha=25,\n",
    "                             n_clusters=N_states,\n",
    "                             verbose=False,\n",
    "                             mode='scaled',\n",
    "                             warm_restart=True,\n",
    "                             repetitions=5,\n",
    "                             n_jobs=-1)\n",
    "\n",
    "hmm_gmm.fit(dataset['data'])\n",
    "\n",
    "print(hmm_gmm.lambdas)\n",
    "\n",
    "print(results_recap(dataset['states'],hmm_gmm.labels_,dataset['thetas'],hmm_gmm.precisions_))"
   ]
  },
  {
   "cell_type": "code",
   "execution_count": null,
   "metadata": {},
   "outputs": [],
   "source": [
    "from regain.hmm.utils_pred import pred_HMM_GMM\n",
    "returns = pred_HMM_GMM(dataset['data'],\n",
    "                       Data,\n",
    "                       [28],\n",
    "                       [N_states],\n",
    "                       N_retrain = 10,\n",
    "                       N_test = N_pred,\n",
    "                       meth = 'viterbi',\n",
    "                       pred_meth = 'rolling',\n",
    "                       recrossval = False)"
   ]
  },
  {
   "cell_type": "code",
   "execution_count": null,
   "metadata": {},
   "outputs": [],
   "source": [
    "from regain.hmm.utils_pred import pred_from_N_past_days\n",
    "res = pred_from_N_past_days(dataset['data'],Data,N_past_days=50,N_test=N_pred,pred_meth = 'rolling')"
   ]
  },
  {
   "cell_type": "code",
   "execution_count": null,
   "metadata": {},
   "outputs": [],
   "source": [
    "Value, Value_mean = Value_from_returns(Data, returns,N_pred, pred_meth='rolling', perc_var=False)"
   ]
  },
  {
   "cell_type": "code",
   "execution_count": null,
   "metadata": {},
   "outputs": [],
   "source": [
    "Value_res, Value_mean_res = Value_from_returns(Data, res,N_pred, pred_meth='rolling', perc_var=False)"
   ]
  },
  {
   "cell_type": "code",
   "execution_count": null,
   "metadata": {},
   "outputs": [],
   "source": [
    "res_regre.append(Value)\n",
    "res_regre.append(Value_mean)\n",
    "res_regre.append(Value_res)\n",
    "res_regre.append(Value_mean_res)"
   ]
  },
  {
   "cell_type": "code",
   "execution_count": null,
   "metadata": {},
   "outputs": [],
   "source": [
    "methods.append('HMM-GMM')\n",
    "methods.append('HMM-GMM mean')\n",
    "methods.append('Last 50 days')\n",
    "methods.append('Last 50 days mean')"
   ]
  },
  {
   "cell_type": "code",
   "execution_count": null,
   "metadata": {},
   "outputs": [],
   "source": [
    "figsizex=15\n",
    "figsizey=20\n",
    "N_per_rows=2\n",
    "N_mem = 10\n",
    "N_test = N_pred\n",
    "Dates = None\n",
    "columns = None\n",
    "N_TS = np.size(Data, axis=1)\n",
    "\n",
    "N_rows = int(np.ceil(N_TS / N_per_rows))\n",
    "f, axes = plt.subplots(N_rows, N_per_rows, figsize=(figsizex, figsizey))\n",
    "list_all = []\n",
    "for ts in range(N_TS):\n",
    "    i = int(ts / N_per_rows)\n",
    "    j = np.remainder(ts, N_per_rows)\n",
    "    \n",
    "    for n,Value_pred in enumerate(res_regre):\n",
    "        \n",
    "        absolute_error = abs(Data[-(N_test):,ts]-Value_pred[:,ts])\n",
    "        MAE = np.mean(absolute_error)\n",
    "        std = np.std(absolute_error)\n",
    "        \n",
    "\n",
    "        if Dates is None:\n",
    "            x_mem = np.arange(N_mem + N_test)\n",
    "            x = np.arange(N_mem,N_mem + N_test)\n",
    "            if n==0:\n",
    "                axes[i, j].plot(x_mem, Data[-(N_mem+N_test):,ts],label='real')\n",
    "                #axes[i, j].plot(x, Data[-(N_test):,ts], 'o', label='real')\n",
    "            axes[i, j].plot(x, Value_pred[:,ts],  label='pred '+str(methods[n]))\n",
    "            if columns is None:\n",
    "                axes[i, j].set_title('var ' + str(ts) + ' forecast')\n",
    "                list_all.append([str(methods[n]),'var ' + str(ts),MAE,std])\n",
    "            else:\n",
    "                axes[i, j].set_title(str(columns[ts]) + ' forecast')\n",
    "                list_all.append([str(methods[n]),str(columns[ts]),MAE,std])\n",
    "\n",
    "        axes[i, j].legend()"
   ]
  },
  {
   "cell_type": "code",
   "execution_count": null,
   "metadata": {},
   "outputs": [],
   "source": [
    "import pandas as pd\n",
    "df_recap = pd.DataFrame(list_all, columns=['method', 'TS', 'MAE', 'std AB'])"
   ]
  },
  {
   "cell_type": "code",
   "execution_count": null,
   "metadata": {},
   "outputs": [],
   "source": [
    "with open('Pred_K5.pickle', 'wb') as f:\n",
    "    pkl.dump([dataset,Data,res_regre,df_recap], f)"
   ]
  },
  {
   "cell_type": "code",
   "execution_count": null,
   "metadata": {},
   "outputs": [],
   "source": [
    "df_recap.loc[df_recap['method'] == 'LSTM']['MAE'].mean()"
   ]
  },
  {
   "cell_type": "code",
   "execution_count": null,
   "metadata": {},
   "outputs": [],
   "source": [
    "print(df_recap.to_string())"
   ]
  },
  {
   "cell_type": "code",
   "execution_count": null,
   "metadata": {},
   "outputs": [],
   "source": [
    "import pickle\n",
    "with open('Pred_K5.pickle', 'rb') as f:\n",
    "    [dataset,Data,res_regre,df_recap] =  pickle.load(f)"
   ]
  },
  {
   "cell_type": "code",
   "execution_count": null,
   "metadata": {},
   "outputs": [],
   "source": [
    "N_pred = 10\n",
    "from regain.hmm.utils_pred import reg_pred_HMM_GMM\n",
    "ret_pred,_, Val_Pred =   reg_pred_HMM_GMM(dataset['data'],\n",
    "                                   Data,\n",
    "                                   [45],\n",
    "                                   [3],\n",
    "                                   N_retrain = N_pred,\n",
    "                                   N_val = 10,\n",
    "                                   p=2,\n",
    "                                   N_test = 10,\n",
    "                                   meth = 'viterbi',\n",
    "                                   pred_meth = 'rolling',\n",
    "                                   recrossval = False,\n",
    "                                   CV_meth = 'reg',\n",
    "                                   single_var = True,\n",
    "                                   var=1)"
   ]
  },
  {
   "cell_type": "code",
   "execution_count": null,
   "metadata": {},
   "outputs": [],
   "source": [
    "import numpy as np\n",
    "print(np.mean(abs(Val_Pred-Data[-N_pred:,1])))"
   ]
  },
  {
   "cell_type": "code",
   "execution_count": null,
   "metadata": {},
   "outputs": [],
   "source": [
    "(1.49+1.53+1.05)/3"
   ]
  },
  {
   "cell_type": "code",
   "execution_count": null,
   "metadata": {},
   "outputs": [],
   "source": []
  }
 ],
 "metadata": {
  "kernelspec": {
   "display_name": "Python 2",
   "language": "python",
   "name": "python2"
  },
  "language_info": {
   "codemirror_mode": {
    "name": "ipython",
    "version": 2
   },
   "file_extension": ".py",
   "mimetype": "text/x-python",
   "name": "python",
   "nbconvert_exporter": "python",
   "pygments_lexer": "ipython2",
   "version": "2.7.18"
  }
 },
 "nbformat": 4,
 "nbformat_minor": 2
}
