{
 "cells": [
  {
   "cell_type": "code",
   "execution_count": null,
   "metadata": {},
   "outputs": [],
   "source": [
    "import numpy as np \n",
    "from importlib import reload \n",
    "\n",
    "import regain.hmm.hmm_graphical_lasso; reload(regain.hmm.hmm_graphical_lasso)\n",
    "from regain.hmm.hmm_graphical_lasso import HMM_GraphicalLasso"
   ]
  },
  {
   "cell_type": "code",
   "execution_count": null,
   "metadata": {},
   "outputs": [],
   "source": [
    "X = np.random.randn(1000, 10)"
   ]
  },
  {
   "cell_type": "code",
   "execution_count": null,
   "metadata": {},
   "outputs": [],
   "source": [
    "mdl = HMM_GraphicalLasso(verbose=True, mode='scaled')"
   ]
  },
  {
   "cell_type": "code",
   "execution_count": null,
   "metadata": {},
   "outputs": [],
   "source": [
    "mdl.fit(X)"
   ]
  },
  {
   "cell_type": "code",
   "execution_count": null,
   "metadata": {},
   "outputs": [],
   "source": [
    "mdl.labels_"
   ]
  },
  {
   "cell_type": "code",
   "execution_count": null,
   "metadata": {},
   "outputs": [],
   "source": [
    "mdl.labels_"
   ]
  },
  {
   "cell_type": "code",
   "execution_count": null,
   "metadata": {},
   "outputs": [],
   "source": [
    "mdl.precisions_"
   ]
  },
  {
   "cell_type": "code",
   "execution_count": 17,
   "metadata": {},
   "outputs": [],
   "source": [
    "from importlib import reload\n",
    "import regain.datasets.hmm; reload(regain.datasets.hmm)\n",
    "from regain.datasets.hmm import generate_complementary_precisions_matrix"
   ]
  },
  {
   "cell_type": "code",
   "execution_count": 18,
   "metadata": {},
   "outputs": [
    {
     "name": "stdout",
     "output_type": "stream",
     "text": [
      "[]\n",
      "[[1. 1. 0. 1. 0.]\n",
      " [1. 1. 0. 0. 1.]\n",
      " [0. 0. 1. 1. 1.]\n",
      " [1. 0. 1. 1. 0.]\n",
      " [0. 1. 1. 0. 1.]]\n",
      "[(0, 1), (3, 2), (0, 0), (3, 3), (3, 0), (4, 4), (1, 4), (2, 4), (2, 3), (2, 2), (4, 2), (1, 0), (4, 1), (1, 1), (0, 3)]\n",
      "[[1. 1. 0. 1. 0.]\n",
      " [1. 1. 0. 0. 1.]\n",
      " [0. 0. 1. 1. 1.]\n",
      " [1. 0. 1. 1. 0.]\n",
      " [0. 1. 1. 0. 1.]]\n",
      "[[1. 0. 1. 0. 0.]\n",
      " [0. 1. 1. 0. 0.]\n",
      " [1. 1. 1. 0. 0.]\n",
      " [0. 0. 0. 1. 0.]\n",
      " [0. 0. 0. 0. 1.]]\n",
      "[(0, 1), (1, 2), (3, 2), (0, 0), (3, 3), (3, 0), (0, 2), (4, 4), (1, 4), (2, 1), (2, 0), (2, 4), (2, 3), (2, 2), (4, 2), (1, 0), (4, 1), (1, 1), (0, 3)]\n"
     ]
    },
    {
     "data": {
      "text/plain": [
       "([array([[-0.33333333,  0.66666667, -0.33333333,  0.66666667, -0.33333333],\n",
       "         [ 0.66666667, -0.33333333, -0.33333333, -0.33333333,  0.66666667],\n",
       "         [-0.33333333, -0.33333333, -0.33333333,  0.66666667,  0.66666667],\n",
       "         [ 0.66666667, -0.33333333,  0.66666667, -0.33333333, -0.33333333],\n",
       "         [-0.33333333,  0.66666667,  0.66666667, -0.33333333, -0.33333333]]),\n",
       "  array([[ 2.68751815e-16, -1.00000000e+00,  1.00000000e+00,\n",
       "           0.00000000e+00,  0.00000000e+00],\n",
       "         [-1.00000000e+00, -3.33066907e-16,  1.00000000e+00,\n",
       "           0.00000000e+00,  0.00000000e+00],\n",
       "         [ 1.00000000e+00,  1.00000000e+00, -1.00000000e+00,\n",
       "           0.00000000e+00,  0.00000000e+00],\n",
       "         [ 0.00000000e+00,  0.00000000e+00,  0.00000000e+00,\n",
       "           1.00000000e+00,  0.00000000e+00],\n",
       "         [ 0.00000000e+00,  0.00000000e+00,  0.00000000e+00,\n",
       "           0.00000000e+00,  1.00000000e+00]]),\n",
       "  array([[ 1.00000000e+00,  0.00000000e+00,  0.00000000e+00,\n",
       "           0.00000000e+00,  0.00000000e+00],\n",
       "         [ 0.00000000e+00, -5.38739883e-16,  7.64107890e-16,\n",
       "           1.00000000e+00, -1.00000000e+00],\n",
       "         [ 0.00000000e+00,  2.22044605e-16,  1.00000000e+00,\n",
       "          -3.33066907e-16,  1.11022302e-16],\n",
       "         [ 0.00000000e+00,  1.00000000e+00, -1.11022302e-15,\n",
       "          -1.00000000e+00,  1.00000000e+00],\n",
       "         [ 0.00000000e+00, -1.00000000e+00,  8.88178420e-16,\n",
       "           1.00000000e+00, -3.88578059e-16]])],\n",
       " [array([[1., 1., 0., 1., 0.],\n",
       "         [1., 1., 0., 0., 1.],\n",
       "         [0., 0., 1., 1., 1.],\n",
       "         [1., 0., 1., 1., 0.],\n",
       "         [0., 1., 1., 0., 1.]]), array([[1., 0., 1., 0., 0.],\n",
       "         [0., 1., 1., 0., 0.],\n",
       "         [1., 1., 1., 0., 0.],\n",
       "         [0., 0., 0., 1., 0.],\n",
       "         [0., 0., 0., 0., 1.]]), array([[1., 0., 0., 0., 0.],\n",
       "         [0., 1., 0., 1., 0.],\n",
       "         [0., 0., 1., 0., 0.],\n",
       "         [0., 1., 0., 1., 1.],\n",
       "         [0., 0., 0., 1., 1.]])])"
      ]
     },
     "execution_count": 18,
     "metadata": {},
     "output_type": "execute_result"
    }
   ],
   "source": [
    "generate_complementary_precisions_matrix(n_dim_obs=5, n_states=3)"
   ]
  },
  {
   "cell_type": "code",
   "execution_count": null,
   "metadata": {},
   "outputs": [],
   "source": [
    "a = ['a', 'b', 'c']\n",
    "a.remove('a')"
   ]
  },
  {
   "cell_type": "code",
   "execution_count": null,
   "metadata": {},
   "outputs": [],
   "source": [
    "a"
   ]
  },
  {
   "cell_type": "code",
   "execution_count": null,
   "metadata": {},
   "outputs": [],
   "source": [
    "a.remove('a')"
   ]
  },
  {
   "cell_type": "code",
   "execution_count": null,
   "metadata": {},
   "outputs": [],
   "source": [
    "a.remove??"
   ]
  },
  {
   "cell_type": "code",
   "execution_count": null,
   "metadata": {},
   "outputs": [],
   "source": []
  }
 ],
 "metadata": {
  "kernelspec": {
   "display_name": "Python 3",
   "language": "python",
   "name": "python3"
  },
  "language_info": {
   "codemirror_mode": {
    "name": "ipython",
    "version": 3
   },
   "file_extension": ".py",
   "mimetype": "text/x-python",
   "name": "python",
   "nbconvert_exporter": "python",
   "pygments_lexer": "ipython3",
   "version": "3.6.5"
  }
 },
 "nbformat": 4,
 "nbformat_minor": 2
}
