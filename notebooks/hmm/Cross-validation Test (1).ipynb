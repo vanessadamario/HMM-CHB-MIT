{
 "cells": [
  {
   "cell_type": "code",
   "execution_count": null,
   "metadata": {},
   "outputs": [],
   "source": [
    "from regain.datasets.hmm import generate_hmm\n",
    "from regain.hmm.hmm_graphical_lasso import HMM_GraphicalLasso \n",
    "import numpy as np\n",
    "from importlib import reload\n",
    "import regain.hmm.utils; reload(regain.hmm.utils)\n",
    "from regain.hmm.utils import results_recap\n",
    "from regain.hmm.utils import cross_validation#, cross_validation_auto\n",
    "import pickle as pkl\n",
    "\n",
    "from sklearn import cluster\n",
    "from sklearn.mixture import GaussianMixture\n",
    "#from pomegranate import *"
   ]
  },
  {
   "cell_type": "code",
   "execution_count": null,
   "metadata": {},
   "outputs": [],
   "source": [
    "st = 5\n",
    "dim =10\n",
    "mm = 'Normal'\n",
    "cluster_list = [3,4,5,6,7,8]\n",
    "\n",
    "res_all = {}\n",
    "\n",
    "\n",
    "\n",
    "print('Case: N_states:',st,',TS dim:',dim,',Mean mode:',mm)\n",
    "\n",
    "# Generate a dataset\n",
    "dataset = generate_hmm(n_samples=2000,\n",
    "                       n_states=st,\n",
    "                       n_dim_obs=dim,\n",
    "                       mode_precisions='regain_random',\n",
    "                       mode_mean = mm,\n",
    "                       transition_type='fixed',\n",
    "                       sigma=1)"
   ]
  },
  {
   "cell_type": "code",
   "execution_count": null,
   "metadata": {},
   "outputs": [],
   "source": [
    "# CV hmm_gmm \n",
    "\n",
    "hmm_gmm = HMM_GraphicalLasso(alpha=30,\n",
    "                             n_clusters=st,\n",
    "                             verbose=False,\n",
    "                             mode='scaled',\n",
    "                             warm_restart=True,\n",
    "                             repetitions=5,\n",
    "                             n_jobs=-1)\n",
    "\n",
    "hmm_gmm.fit(dataset['data'])\n",
    "\n",
    "print(hmm_gmm.lambdas)\n",
    "\n",
    "print(results_recap(dataset['states'],hmm_gmm.labels_,dataset['thetas'],hmm_gmm.precisions_))"
   ]
  },
  {
   "cell_type": "code",
   "execution_count": null,
   "metadata": {},
   "outputs": [],
   "source": [
    "hmm_gmm.lambdas"
   ]
  },
  {
   "cell_type": "code",
   "execution_count": null,
   "metadata": {},
   "outputs": [],
   "source": [
    "res = cross_validation(hmm_gmm,\n",
    "       dataset['data'],\n",
    "       params={'alpha':np.linspace(15,30 ,10),\n",
    "               'n_clusters':cluster_list},\n",
    "       n_repetitions=5)"
   ]
  },
  {
   "cell_type": "code",
   "execution_count": null,
   "metadata": {},
   "outputs": [],
   "source": [
    "with open('Test_bic.pickle', 'wb') as f:\n",
    "    pkl.dump([dataset,res], f)"
   ]
  },
  {
   "cell_type": "code",
   "execution_count": null,
   "metadata": {},
   "outputs": [],
   "source": [
    "res_alpha_fede = res[1]\n",
    "couples = []\n",
    "mean_bic = []\n",
    "std_bic =[]\n",
    "dispersion_coeff = []\n",
    "for k in res_alpha_fede.keys():\n",
    "    couples.append(k)\n",
    "    mean_bic.append(res_alpha_fede[k]['mean_bic'])\n",
    "    std_bic.append(res_alpha_fede[k]['std_bic'])\n",
    "    dispersion_coeff.append(res_alpha_fede[k]['dispersion_coefficient'])"
   ]
  },
  {
   "cell_type": "code",
   "execution_count": null,
   "metadata": {},
   "outputs": [],
   "source": [
    "cluster_list = [3,4,5,6,7,8]\n",
    "alpha_list = np.linspace(15,30 ,10)"
   ]
  },
  {
   "cell_type": "code",
   "execution_count": null,
   "metadata": {},
   "outputs": [],
   "source": [
    "from mpl_toolkits.mplot3d import Axes3D  # noqa: F401 unused import\n",
    "\n",
    "import matplotlib.pyplot as plt\n",
    "from matplotlib import cm\n",
    "from matplotlib.ticker import LinearLocator, FormatStrFormatter\n",
    "import numpy as np\n",
    "\n",
    "\n",
    "fig = plt.figure()\n",
    "ax = fig.gca(projection='3d')\n",
    "\n",
    "# Make data.\n",
    "X, Y = np.meshgrid(cluster_list, alpha_list)\n",
    "\n",
    "Z = np.zeros((6, 10)).T\n",
    "for i, x in enumerate(cluster_list):\n",
    "    for j, y in enumerate(alpha_list):\n",
    "        Z[j,i] = res_alpha_fede[(y, x)]['mean_bic']\n",
    "\n",
    "print(Z)\n",
    "# Plot the surface.\n",
    "surf = ax.plot_surface(X, Y, Z, cmap=cm.coolwarm,\n",
    "                       linewidth=0, antialiased=False)\n",
    "\n",
    "\n",
    "# Customize the z axis.\n",
    "#ax.set_zticklabels([])\n",
    "ax.set_xlabel('No. states')\n",
    "ax.set_ylabel(r'$\\alpha$')\n",
    "ax.set_zlabel('BIC', rotation=90)\n",
    "# ax.zaxis.set_major_locator(LinearLocator(10))\n",
    "# ax.zaxis.set_major_formatter(FormatStrFormatter('%.02f'))\n",
    "ax.view_init(25, 70)\n",
    "# Add a color bar which maps values to colors.\n",
    "#fig.colorbar(surf, shrink=0.5, aspect=5)\n",
    "plt.tight_layout()\n",
    "plt.savefig(\"/Users/vt908/Dropbox (Personal)/finance_graphical_modles/NeurIPS2020/BIC.pdf\", \n",
    "            dpi=200, transparent=True,\n",
    "           bbox_inches='tight')\n",
    "plt.show()\n",
    "\n",
    "# plt.figure(figsize=(15,5))\n",
    "# plt.plot(mean_bic)\n",
    "# plt.fill_between(np.arange(len(mean_bic)), np.array(mean_bic)-np.array(std_bic),\n",
    "#                  np.array(mean_bic)+np.array(std_bic), alpha=0.3)\n",
    "# plt.axvline(np.argmin(mean_bic), color='red')\n",
    "# plt.xticks(np.arange(len(mean_bic)),couples, rotation='vertical')\n",
    "# plt.show()\n",
    "\n",
    "#plt.figure(figsize=(15,10))\n",
    "#plt.plot(dispersion_coeff)\n",
    "#plt.axvline(np.argmin(dispersion_coeff), color='red')\n",
    "#plt.xticks(np.arange(len(mean_bic)),couples, rotation='vertical')\n",
    "#plt.show()\n",
    "\n",
    "#plt.figure(figsize=(15,5))\n",
    "#final_res = np.array(mean_bic/np.sum(mean_bic)) + np.array(dispersion_coeff)\n",
    "#plt.plot(final_res)\n",
    "#plt.axvline(np.argmin(final_res), color='red')\n",
    "#plt.xticks(np.arange(len(mean_bic)),couples, rotation='vertical')\n",
    "#plt.show()"
   ]
  },
  {
   "cell_type": "code",
   "execution_count": null,
   "metadata": {},
   "outputs": [],
   "source": []
  }
 ],
 "metadata": {
  "kernelspec": {
   "display_name": "Python 3",
   "language": "python",
   "name": "python3"
  },
  "language_info": {
   "codemirror_mode": {
    "name": "ipython",
    "version": 3
   },
   "file_extension": ".py",
   "mimetype": "text/x-python",
   "name": "python",
   "nbconvert_exporter": "python",
   "pygments_lexer": "ipython3",
   "version": "3.6.10"
  }
 },
 "nbformat": 4,
 "nbformat_minor": 2
}
