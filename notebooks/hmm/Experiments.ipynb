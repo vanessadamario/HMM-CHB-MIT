{
 "cells": [
  {
   "cell_type": "code",
   "execution_count": 1,
   "metadata": {},
   "outputs": [],
   "source": [
    "from regain.datasets.hmm import generate_hmm\n",
    "from regain.hmm.hmm_graphical_lasso import HMM_GraphicalLasso \n",
    "import numpy as np\n",
    "from importlib import reload\n",
    "import regain.hmm.utils; reload(regain.hmm.utils)\n",
    "from regain.hmm.utils import results_recap\n",
    "from regain.hmm.utils import cross_validation#, cross_validation_auto\n",
    "import pickle as pkl"
   ]
  },
  {
   "cell_type": "code",
   "execution_count": 2,
   "metadata": {},
   "outputs": [],
   "source": [
    "# list of parameters to generate different kind of datasets\n",
    "\n",
    "states = [2, 4, 8, 12]\n",
    "dims = [10, 15, 20, 30, 100]\n",
    "mode_prec = ['complementary']\n",
    "mode_mea = ['Normal']\n",
    "\n",
    "\n",
    "alpha_list = np.logspace(-1, 1, 3)\n",
    "clusters_list = np.arange(2,15)"
   ]
  },
  {
   "cell_type": "code",
   "execution_count": null,
   "metadata": {},
   "outputs": [
    {
     "name": "stderr",
     "output_type": "stream",
     "text": [
      "/home/vero/git_repos/regain/regain/datasets/hmm.py:127: RuntimeWarning: covariance is not positive-semidefinite.\n",
      "  covariances[state], 1)\n",
      "  0%|          | 0/3 [00:00<?, ?it/s]\n",
      "  0%|          | 0/13 [00:00<?, ?it/s]\u001b[A"
     ]
    },
    {
     "name": "stdout",
     "output_type": "stream",
     "text": [
      "Case: N_states: 2 ,TS dim: 10 ,Prec mode: complementary ,Mean mode: Normal\n"
     ]
    },
    {
     "name": "stderr",
     "output_type": "stream",
     "text": [
      "\n",
      "  8%|▊         | 1/13 [04:08<49:41, 248.42s/it]\u001b[A\n",
      " 15%|█▌        | 2/13 [10:26<52:40, 287.28s/it]\u001b[A\n",
      " 23%|██▎       | 3/13 [18:18<57:08, 342.84s/it]\u001b[A\n",
      " 31%|███       | 4/13 [28:05<1:02:23, 415.92s/it]\u001b[A\n",
      " 38%|███▊      | 5/13 [39:42<1:06:43, 500.38s/it]\u001b[A\n",
      " 46%|████▌     | 6/13 [53:16<1:09:20, 594.38s/it]\u001b[A"
     ]
    }
   ],
   "source": [
    "for st in states:\n",
    "    for dim in dims:\n",
    "        for mp in mode_prec:\n",
    "            for mm in mode_mea:\n",
    "                \n",
    "                # Generate a dataset\n",
    "                dataset = generate_hmm(n_samples=1000, n_states=st, n_dim_obs=dim,\n",
    "                       mode_precisions=mp,mode_mean = mm, transition_type='fixed', sigma=1)\n",
    "                \n",
    "                print('Case: N_states:',st,',TS dim:',dim,',Prec mode:',mp,',Mean mode:',mm)\n",
    "                \n",
    "                # HMM_GraphicalLasso with a given alpha \n",
    "                mdl = HMM_GraphicalLasso(alpha=2, n_clusters=5, verbose=False, mode='scaled',\n",
    "                                         warm_restart=True, repetitions=3,n_jobs=-1)\n",
    "                \n",
    "                #CV\n",
    "                res = ((st,dim,mp,mm),\n",
    "                       cross_validation(mdl, dataset['data'], \n",
    "                                                       params={'alpha':alpha_list,\n",
    "                                                       'n_clusters':clusters_list},\n",
    "                                                         mode='bic', n_repetitions=3)[0],\n",
    "                      dataset)\n",
    "                \n",
    "#                 # HMM_GraphicalLasso with auto generated alpha \n",
    "                \n",
    "#                 mdl = HMM_GraphicalLasso(alpha=2, n_clusters=5, verbose=False, mode='scaled',mode_lam ='auto',\n",
    "#                                          warm_restart=True, repetitions=3,n_jobs=-1)\n",
    "                \n",
    "#                 #CV\n",
    "#                 res_1 = ((st,dim,mp,mm),cross_validation_auto(mdl, dataset['data'],\n",
    "#                             params={'n_clusters':clusters_list},mode='stability', n_repetitions=3))\n",
    "                \n",
    "#                 with open('one_shot_results_'+st+'states_'+dim+'dimensions_'+mp+'precisiontype_'+mm+'meantype.pkl', wb) as f:\n",
    "#                     pkl.dump([res, res_1], f)"
   ]
  },
  {
   "cell_type": "code",
   "execution_count": null,
   "metadata": {},
   "outputs": [],
   "source": [
    "res"
   ]
  },
  {
   "cell_type": "code",
   "execution_count": null,
   "metadata": {},
   "outputs": [],
   "source": [
    "with open(\"./Results.pkl.pkl\", \"rb\") as f:\n",
    "    res_fede = pkl.load(f)"
   ]
  },
  {
   "cell_type": "code",
   "execution_count": null,
   "metadata": {},
   "outputs": [],
   "source": [
    "res_alpha_fede = res[1][1]\n",
    "couples = []\n",
    "mean_bic = []\n",
    "std_bic =[]\n",
    "dispersion_coeff = []\n",
    "for k in res_alpha_fede.keys():\n",
    "    couples.append(k)\n",
    "    mean_bic.append(res_alpha_fede[k]['mean_bic'])\n",
    "    std_bic.append(res_alpha_fede[k]['std_bic'])\n",
    "    dispersion_coeff.append(res_alpha_fede[k]['dispersion_coefficient'])\n",
    "    "
   ]
  },
  {
   "cell_type": "code",
   "execution_count": null,
   "metadata": {},
   "outputs": [],
   "source": [
    "import matplotlib.pyplot as plt \n",
    "plt.figure(figsize=(15,5))\n",
    "plt.plot(mean_bic[:-8])\n",
    "plt.fill_between(np.arange(len(mean_bic[:-8])), np.array(mean_bic[:-8])-np.array(std_bic[:-8]),\n",
    "                 np.array(mean_bic[:-8])+np.array(std_bic[:-8]), alpha=0.3)\n",
    "plt.axvline(np.argmin(mean_bic[:-8]), color='red')\n",
    "plt.xticks(np.arange(len(mean_bic[:-8])),couples[:-8], rotation='vertical')\n",
    "plt.show()\n",
    "plt.figure(figsize=(15,5))\n",
    "plt.plot(mean_bic)\n",
    "plt.fill_between(np.arange(len(mean_bic)), np.array(mean_bic)-np.array(std_bic),\n",
    "                 np.array(mean_bic)+np.array(std_bic), alpha=0.3)\n",
    "plt.axvline(np.argmin(mean_bic), color='red')\n",
    "plt.xticks(np.arange(len(mean_bic)),couples, rotation='vertical')\n",
    "plt.show()\n",
    "\n",
    "\n",
    "# plt.figure(figsize=(15,5))\n",
    "# final_res = np.array(mean_bic[:-8]/np.sum(mean_bic[:-8])) + np.array(dispersion_coeff[:-8])\n",
    "# plt.plot(final_res)\n",
    "# plt.axvline(np.argmin(final_res), color='red')\n",
    "# plt.xticks(np.arange(len(mean_bic[:-8])),couples[:-8], rotation='vertical')\n",
    "# plt.show()"
   ]
  },
  {
   "cell_type": "code",
   "execution_count": null,
   "metadata": {},
   "outputs": [],
   "source": [
    "plt.figure(figsize=(15,10))\n",
    "plt.plot(dispersion_coeff)\n",
    "plt.axvline(np.argmin(dispersion_coeff), color='red')\n",
    "plt.xticks(np.arange(len(mean_bic)),couples, rotation='vertical')\n",
    "plt.show()"
   ]
  },
  {
   "cell_type": "code",
   "execution_count": null,
   "metadata": {},
   "outputs": [],
   "source": [
    "plt.figure(figsize=(15,10))\n",
    "final_res = np.array(mean_bic[:-8]) + np.array(dispersion_coeff[:-8])\n",
    "plt.plot(final_res)\n",
    "plt.axvline(np.argmin(final_res), color='red')\n",
    "plt.xticks(np.arange(len(mean_bic[:-8])),couples[:-8], rotation='vertical')\n",
    "plt.show()"
   ]
  },
  {
   "cell_type": "code",
   "execution_count": null,
   "metadata": {},
   "outputs": [],
   "source": [
    "res_no_alpha_fede = res_[2][1]\n",
    "couples = []\n",
    "mean_bic = []\n",
    "std_bic =[]\n",
    "dispersion_coeff = []\n",
    "for k in res_no_alpha_fede.keys():\n",
    "    couples.append(k)\n",
    "    mean_bic.append(res_no_alpha_fede[k]['mean_bic'])\n",
    "    std_bic.append(res_no_alpha_fede[k]['std_bic'])\n",
    "    dispersion_coeff.append(res_no_alpha_fede[k]['dispersion_coefficient'])"
   ]
  },
  {
   "cell_type": "code",
   "execution_count": null,
   "metadata": {},
   "outputs": [],
   "source": [
    "mean_bic, dispersion_coeff"
   ]
  },
  {
   "cell_type": "code",
   "execution_count": null,
   "metadata": {},
   "outputs": [],
   "source": [
    "import matplotlib.pyplot as plt \n",
    "plt.figure(figsize=(15,5))\n",
    "plt.plot(mean_bic)\n",
    "plt.fill_between(np.arange(len(mean_bic)), np.array(mean_bic)-np.array(std_bic),\n",
    "                 np.array(mean_bic)+np.array(std_bic), alpha=0.3)\n",
    "plt.axvline(np.argmin(mean_bic), color='red')\n",
    "plt.xticks(np.arange(len(mean_bic)),couples, rotation='vertical')\n",
    "plt.show()\n",
    "\n",
    "plt.figure(figsize=(15,10))\n",
    "plt.plot(dispersion_coeff)\n",
    "plt.axvline(np.argmin(dispersion_coeff), color='red')\n",
    "plt.xticks(np.arange(len(mean_bic)),couples, rotation='vertical')\n",
    "plt.show()\n",
    "\n",
    "plt.figure(figsize=(15,5))\n",
    "final_res = np.array(mean_bic/np.sum(mean_bic)) + np.array(dispersion_coeff)\n",
    "plt.plot(final_res)\n",
    "plt.axvline(np.argmin(final_res), color='red')\n",
    "plt.xticks(np.arange(len(mean_bic)),couples, rotation='vertical')\n",
    "plt.show()"
   ]
  },
  {
   "cell_type": "code",
   "execution_count": null,
   "metadata": {},
   "outputs": [],
   "source": [
    "res_fede"
   ]
  },
  {
   "cell_type": "code",
   "execution_count": null,
   "metadata": {},
   "outputs": [],
   "source": [
    "mdl = HMM_GraphicalLasso(alpha=0.1, n_clusters=4, verbose=False, mode='scaled',\n",
    "                                         warm_restart=True, repetitions=10,n_jobs=-1)\n",
    "mdl.fit(dataset['data'])"
   ]
  },
  {
   "cell_type": "code",
   "execution_count": null,
   "metadata": {},
   "outputs": [],
   "source": [
    "from importlib import reload\n",
    "\n",
    "import regain.hmm.utils; reload(regain.hmm.utils)\n",
    "from regain.hmm.utils import results_recap\n",
    "results_recap(dataset['states'], mdl.labels_, dataset['thetas'], mdl.precisions_, \n",
    "              dataset['gammas'], mdl.gammas_)"
   ]
  },
  {
   "cell_type": "code",
   "execution_count": null,
   "metadata": {},
   "outputs": [],
   "source": []
  }
 ],
 "metadata": {
  "kernelspec": {
   "display_name": "Python 3",
   "language": "python",
   "name": "python3"
  },
  "language_info": {
   "codemirror_mode": {
    "name": "ipython",
    "version": 3
   },
   "file_extension": ".py",
   "mimetype": "text/x-python",
   "name": "python",
   "nbconvert_exporter": "python",
   "pygments_lexer": "ipython3",
   "version": "3.6.5"
  }
 },
 "nbformat": 4,
 "nbformat_minor": 2
}
