{
 "cells": [
  {
   "cell_type": "code",
   "execution_count": 1,
   "metadata": {},
   "outputs": [
    {
     "name": "stderr",
     "output_type": "stream",
     "text": [
      "/Users/federicociech/.local/lib/python3.7/site-packages/sklearn/utils/deprecation.py:144: FutureWarning: The sklearn.datasets.base module is  deprecated in version 0.22 and will be removed in version 0.24. The corresponding classes / functions should instead be imported from sklearn.datasets. Anything that cannot be imported from sklearn.datasets is now part of the private API.\n",
      "  warnings.warn(message, FutureWarning)\n"
     ]
    }
   ],
   "source": [
    "from regain.datasets.hmm import generate_hmm\n",
    "from regain.hmm.hmm_graphical_lasso import HMM_GraphicalLasso \n",
    "import numpy as np\n",
    "from importlib import reload\n",
    "import regain.hmm.utils; reload(regain.hmm.utils)\n",
    "from regain.hmm.utils import results_recap\n",
    "from regain.hmm.utils import cross_validation#, cross_validation_auto\n",
    "import pickle as pkl\n",
    "\n",
    "from sklearn.mixture import GaussianMixture\n",
    "from pomegranate import *\n"
   ]
  },
  {
   "cell_type": "code",
   "execution_count": 8,
   "metadata": {},
   "outputs": [],
   "source": [
    "# list of parameters to generate different kind of datasets\n",
    "\n",
    "states = [2, 4, 8, 12]\n",
    "dims = [10, 15, 20, 30, 100]\n",
    "mode_prec = ['complementary', 'regain', 'sklearn']\n",
    "mode_mea = ['Normal', 'Uniform']\n",
    "\n",
    "\n",
    "#alpha_list = np.logspace(-1, 1, 3)\n",
    "#clusters_list = np.arange(2,15)"
   ]
  },
  {
   "cell_type": "code",
   "execution_count": null,
   "metadata": {},
   "outputs": [
    {
     "name": "stdout",
     "output_type": "stream",
     "text": [
      "Case: N_states: 2 ,TS dim: 10 ,Prec mode: complementary ,Mean mode: Normal\n"
     ]
    },
    {
     "name": "stderr",
     "output_type": "stream",
     "text": [
      "/home/vero/git_repos/regain/regain/datasets/hmm.py:128: RuntimeWarning: covariance is not positive-semidefinite.\n",
      "  covariances[state], 1)\n"
     ]
    },
    {
     "name": "stdout",
     "output_type": "stream",
     "text": [
      "Case: N_states: 2 ,TS dim: 10 ,Prec mode: complementary ,Mean mode: Uniform\n"
     ]
    },
    {
     "name": "stderr",
     "output_type": "stream",
     "text": [
      "/home/vero/git_repos/regain/regain/datasets/hmm.py:128: RuntimeWarning: covariance is not positive-semidefinite.\n",
      "  covariances[state], 1)\n",
      "/home/vero/miniconda2/envs/py36/lib/python3.6/site-packages/sklearn/metrics/classification.py:543: RuntimeWarning: invalid value encountered in double_scalars\n",
      "  mcc = cov_ytyp / np.sqrt(cov_ytyt * cov_ypyp)\n"
     ]
    },
    {
     "name": "stdout",
     "output_type": "stream",
     "text": [
      "Case: N_states: 2 ,TS dim: 10 ,Prec mode: regain ,Mean mode: Normal\n",
      "Case: N_states: 2 ,TS dim: 10 ,Prec mode: regain ,Mean mode: Uniform\n",
      "Case: N_states: 2 ,TS dim: 10 ,Prec mode: sklearn ,Mean mode: Normal\n",
      "Case: N_states: 2 ,TS dim: 10 ,Prec mode: sklearn ,Mean mode: Uniform\n",
      "Case: N_states: 2 ,TS dim: 15 ,Prec mode: complementary ,Mean mode: Normal\n"
     ]
    },
    {
     "name": "stderr",
     "output_type": "stream",
     "text": [
      "/home/vero/git_repos/regain/regain/datasets/hmm.py:128: RuntimeWarning: covariance is not positive-semidefinite.\n",
      "  covariances[state], 1)\n"
     ]
    },
    {
     "name": "stdout",
     "output_type": "stream",
     "text": [
      "Case: N_states: 2 ,TS dim: 15 ,Prec mode: complementary ,Mean mode: Uniform\n"
     ]
    },
    {
     "name": "stderr",
     "output_type": "stream",
     "text": [
      "/home/vero/git_repos/regain/regain/datasets/hmm.py:128: RuntimeWarning: covariance is not positive-semidefinite.\n",
      "  covariances[state], 1)\n"
     ]
    },
    {
     "name": "stdout",
     "output_type": "stream",
     "text": [
      "Case: N_states: 2 ,TS dim: 15 ,Prec mode: regain ,Mean mode: Normal\n",
      "Case: N_states: 2 ,TS dim: 15 ,Prec mode: regain ,Mean mode: Uniform\n",
      "Case: N_states: 2 ,TS dim: 15 ,Prec mode: sklearn ,Mean mode: Normal\n",
      "Case: N_states: 2 ,TS dim: 15 ,Prec mode: sklearn ,Mean mode: Uniform\n",
      "Case: N_states: 2 ,TS dim: 20 ,Prec mode: complementary ,Mean mode: Normal\n"
     ]
    },
    {
     "name": "stderr",
     "output_type": "stream",
     "text": [
      "/home/vero/git_repos/regain/regain/datasets/hmm.py:128: RuntimeWarning: covariance is not positive-semidefinite.\n",
      "  covariances[state], 1)\n"
     ]
    },
    {
     "name": "stdout",
     "output_type": "stream",
     "text": [
      "Case: N_states: 2 ,TS dim: 20 ,Prec mode: complementary ,Mean mode: Uniform\n"
     ]
    },
    {
     "name": "stderr",
     "output_type": "stream",
     "text": [
      "/home/vero/git_repos/regain/regain/datasets/hmm.py:128: RuntimeWarning: covariance is not positive-semidefinite.\n",
      "  covariances[state], 1)\n"
     ]
    },
    {
     "name": "stdout",
     "output_type": "stream",
     "text": [
      "Case: N_states: 2 ,TS dim: 20 ,Prec mode: regain ,Mean mode: Normal\n",
      "Case: N_states: 2 ,TS dim: 20 ,Prec mode: regain ,Mean mode: Uniform\n",
      "Case: N_states: 2 ,TS dim: 20 ,Prec mode: sklearn ,Mean mode: Normal\n",
      "Case: N_states: 2 ,TS dim: 20 ,Prec mode: sklearn ,Mean mode: Uniform\n",
      "Case: N_states: 2 ,TS dim: 30 ,Prec mode: complementary ,Mean mode: Normal\n"
     ]
    },
    {
     "name": "stderr",
     "output_type": "stream",
     "text": [
      "/home/vero/git_repos/regain/regain/datasets/hmm.py:128: RuntimeWarning: covariance is not positive-semidefinite.\n",
      "  covariances[state], 1)\n"
     ]
    },
    {
     "name": "stdout",
     "output_type": "stream",
     "text": [
      "Case: N_states: 2 ,TS dim: 30 ,Prec mode: complementary ,Mean mode: Uniform\n"
     ]
    },
    {
     "name": "stderr",
     "output_type": "stream",
     "text": [
      "/home/vero/git_repos/regain/regain/datasets/hmm.py:128: RuntimeWarning: covariance is not positive-semidefinite.\n",
      "  covariances[state], 1)\n"
     ]
    },
    {
     "name": "stdout",
     "output_type": "stream",
     "text": [
      "Case: N_states: 2 ,TS dim: 30 ,Prec mode: regain ,Mean mode: Normal\n",
      "Case: N_states: 2 ,TS dim: 30 ,Prec mode: regain ,Mean mode: Uniform\n",
      "Case: N_states: 2 ,TS dim: 30 ,Prec mode: sklearn ,Mean mode: Normal\n",
      "Case: N_states: 2 ,TS dim: 30 ,Prec mode: sklearn ,Mean mode: Uniform\n",
      "Case: N_states: 2 ,TS dim: 100 ,Prec mode: complementary ,Mean mode: Normal\n"
     ]
    },
    {
     "name": "stderr",
     "output_type": "stream",
     "text": [
      "/home/vero/git_repos/regain/regain/datasets/hmm.py:128: RuntimeWarning: covariance is not positive-semidefinite.\n",
      "  covariances[state], 1)\n"
     ]
    },
    {
     "name": "stdout",
     "output_type": "stream",
     "text": [
      "Case: N_states: 2 ,TS dim: 100 ,Prec mode: complementary ,Mean mode: Uniform\n"
     ]
    },
    {
     "name": "stderr",
     "output_type": "stream",
     "text": [
      "/home/vero/git_repos/regain/regain/datasets/hmm.py:128: RuntimeWarning: covariance is not positive-semidefinite.\n",
      "  covariances[state], 1)\n"
     ]
    },
    {
     "name": "stdout",
     "output_type": "stream",
     "text": [
      "Case: N_states: 2 ,TS dim: 100 ,Prec mode: regain ,Mean mode: Normal\n",
      "Case: N_states: 2 ,TS dim: 100 ,Prec mode: regain ,Mean mode: Uniform\n"
     ]
    }
   ],
   "source": [
    "for st in states:\n",
    "    for dim in dims:\n",
    "        for mp in mode_prec:\n",
    "            for mm in mode_mea:\n",
    "                # Generate a dataset\n",
    "                print('Case: N_states:',st,',TS dim:',dim,',Prec mode:',mp,',Mean mode:',mm)\n",
    "                dataset = generate_hmm(n_samples=1000, n_states=st, n_dim_obs=dim,\n",
    "                       mode_precisions=mp,mode_mean = mm, transition_type='fixed', sigma=1)\n",
    "                hmm_gmm = HMM_GraphicalLasso(alpha=1, n_clusters=st, verbose=False, mode='scaled',\n",
    "                                         warm_restart=True, repetitions=5, n_jobs=-1)\n",
    "\n",
    "                gmm = GaussianMixture(n_components=st)\n",
    "                hmm = HiddenMarkovModel.from_samples(NormalDistribution,\n",
    "                                                       n_components= st, X=dataset['data'])\n",
    "\n",
    "                try:\n",
    "                \n",
    "                    hmm_gmm.fit(dataset['data'])\n",
    "                    res[(st, dim, mp, mm, 'HMM_GMM')] = results_recap(dataset['states'], \n",
    "                                                                   hmm_gmm.labels_,\n",
    "                                                                   dataset['thetas'], \n",
    "                                                                   hmm_gmm.precisions_)\n",
    "                except:\n",
    "                    print('failed NOI with N_states:',st,',TS dim:',dim,',Prec mode:',mp,',Mean mode:',mm)\n",
    "                try:\n",
    "                    gmm.fit(dataset['data'])\n",
    "                    clusters = gmm.predict(dataset['data'])\n",
    "                    res[(st, dim, mp, mm, 'GMM')] = results_recap(dataset['states'], \n",
    "                                                                gmm.predict(dataset['data']),\n",
    "                                                                   dataset['thetas'], \n",
    "                                                                   gmm.precisions_)\n",
    "                except:\n",
    "                    print('failed GMM with N_states:',st,',TS dim:',dim,',Prec mode:',mp,',Mean mode:',mm)\n",
    "                try:\n",
    "                    hmm.fit(dataset['data'],algorithm='baum-welch')\n",
    "\n",
    "                    res[(st, dim, mp, mm, 'HMM')] = results_recap(dataset['states'], \n",
    "                                                                  hmm.predict(dataset['data']))\n",
    "                except:\n",
    "                    print('failed HMM with N_states:',st,',TS dim:',dim,',Prec mode:',mp,',Mean mode:',mm)"
   ]
  },
  {
   "cell_type": "code",
   "execution_count": null,
   "metadata": {},
   "outputs": [],
   "source": [
    "res"
   ]
  },
  {
   "cell_type": "code",
   "execution_count": 5,
   "metadata": {},
   "outputs": [
    {
     "name": "stderr",
     "output_type": "stream",
     "text": [
      "/home/vero/git_repos/regain/regain/datasets/hmm.py:128: RuntimeWarning: covariance is not positive-semidefinite.\n",
      "  covariances[state], 1)\n"
     ]
    },
    {
     "name": "stdout",
     "output_type": "stream",
     "text": [
      "Case: N_states: 2 ,TS dim: 10 ,Prec mode: complementary ,Mean mode: Normal\n"
     ]
    },
    {
     "ename": "NameError",
     "evalue": "name 'alpha_list' is not defined",
     "output_type": "error",
     "traceback": [
      "\u001b[0;31m---------------------------------------------------------------------------\u001b[0m",
      "\u001b[0;31mNameError\u001b[0m                                 Traceback (most recent call last)",
      "\u001b[0;32m<ipython-input-5-a0b5c6dd377c>\u001b[0m in \u001b[0;36m<module>\u001b[0;34m()\u001b[0m\n\u001b[1;32m     17\u001b[0m                 res = ((st,dim,mp,mm),\n\u001b[1;32m     18\u001b[0m                        cross_validation(mdl, dataset['data'], \n\u001b[0;32m---> 19\u001b[0;31m                                                        params={'alpha':alpha_list,\n\u001b[0m\u001b[1;32m     20\u001b[0m                                                        'n_clusters':clusters_list},\n\u001b[1;32m     21\u001b[0m                                                          mode='bic', n_repetitions=3)[0],\n",
      "\u001b[0;31mNameError\u001b[0m: name 'alpha_list' is not defined"
     ]
    }
   ],
   "source": [
    "for st in states:\n",
    "    for dim in dims:\n",
    "        for mp in mode_prec:\n",
    "            for mm in mode_mea:\n",
    "                \n",
    "                # Generate a dataset\n",
    "                dataset = generate_hmm(n_samples=1000, n_states=st, n_dim_obs=dim,\n",
    "                       mode_precisions=mp,mode_mean = mm, transition_type='fixed', sigma=1)\n",
    "                \n",
    "                print('Case: N_states:',st,',TS dim:',dim,',Prec mode:',mp,',Mean mode:',mm)\n",
    "                \n",
    "                # HMM_GraphicalLasso with a given alpha \n",
    "                mdl = HMM_GraphicalLasso(alpha=2, n_clusters=5, verbose=False, mode='scaled',\n",
    "                                         warm_restart=True, repetitions=3,n_jobs=-1)\n",
    "                \n",
    "                #CV\n",
    "                res = ((st,dim,mp,mm),\n",
    "                       cross_validation(mdl, dataset['data'], \n",
    "                                                       params={'alpha':alpha_list,\n",
    "                                                       'n_clusters':clusters_list},\n",
    "                                                         mode='bic', n_repetitions=3)[0],\n",
    "                      dataset)\n",
    "                \n",
    "#                 # HMM_GraphicalLasso with auto generated alpha \n",
    "                \n",
    "#                 mdl = HMM_GraphicalLasso(alpha=2, n_clusters=5, verbose=False, mode='scaled',mode_lam ='auto',\n",
    "#                                          warm_restart=True, repetitions=3,n_jobs=-1)\n",
    "                \n",
    "#                 #CV\n",
    "#                 res_1 = ((st,dim,mp,mm),cross_validation_auto(mdl, dataset['data'],\n",
    "#                             params={'n_clusters':clusters_list},mode='stability', n_repetitions=3))\n",
    "                \n",
    "#                 with open('one_shot_results_'+st+'states_'+dim+'dimensions_'+mp+'precisiontype_'+mm+'meantype.pkl', wb) as f:\n",
    "#                     pkl.dump([res, res_1], f)"
   ]
  },
  {
   "cell_type": "code",
   "execution_count": null,
   "metadata": {},
   "outputs": [],
   "source": [
    "res"
   ]
  },
  {
   "cell_type": "code",
   "execution_count": null,
   "metadata": {},
   "outputs": [],
   "source": [
    "with open(\"./Results.pkl.pkl\", \"rb\") as f:\n",
    "    res_fede = pkl.load(f)"
   ]
  },
  {
   "cell_type": "code",
   "execution_count": null,
   "metadata": {},
   "outputs": [],
   "source": [
    "res_alpha_fede = res[1][1]\n",
    "couples = []\n",
    "mean_bic = []\n",
    "std_bic =[]\n",
    "dispersion_coeff = []\n",
    "for k in res_alpha_fede.keys():\n",
    "    couples.append(k)\n",
    "    mean_bic.append(res_alpha_fede[k]['mean_bic'])\n",
    "    std_bic.append(res_alpha_fede[k]['std_bic'])\n",
    "    dispersion_coeff.append(res_alpha_fede[k]['dispersion_coefficient'])\n",
    "    "
   ]
  },
  {
   "cell_type": "code",
   "execution_count": null,
   "metadata": {},
   "outputs": [],
   "source": [
    "import matplotlib.pyplot as plt \n",
    "plt.figure(figsize=(15,5))\n",
    "plt.plot(mean_bic[:-8])\n",
    "plt.fill_between(np.arange(len(mean_bic[:-8])), np.array(mean_bic[:-8])-np.array(std_bic[:-8]),\n",
    "                 np.array(mean_bic[:-8])+np.array(std_bic[:-8]), alpha=0.3)\n",
    "plt.axvline(np.argmin(mean_bic[:-8]), color='red')\n",
    "plt.xticks(np.arange(len(mean_bic[:-8])),couples[:-8], rotation='vertical')\n",
    "plt.show()\n",
    "plt.figure(figsize=(15,5))\n",
    "plt.plot(mean_bic)\n",
    "plt.fill_between(np.arange(len(mean_bic)), np.array(mean_bic)-np.array(std_bic),\n",
    "                 np.array(mean_bic)+np.array(std_bic), alpha=0.3)\n",
    "plt.axvline(np.argmin(mean_bic), color='red')\n",
    "plt.xticks(np.arange(len(mean_bic)),couples, rotation='vertical')\n",
    "plt.show()\n",
    "\n",
    "\n",
    "# plt.figure(figsize=(15,5))\n",
    "# final_res = np.array(mean_bic[:-8]/np.sum(mean_bic[:-8])) + np.array(dispersion_coeff[:-8])\n",
    "# plt.plot(final_res)\n",
    "# plt.axvline(np.argmin(final_res), color='red')\n",
    "# plt.xticks(np.arange(len(mean_bic[:-8])),couples[:-8], rotation='vertical')\n",
    "# plt.show()"
   ]
  },
  {
   "cell_type": "code",
   "execution_count": null,
   "metadata": {},
   "outputs": [],
   "source": [
    "plt.figure(figsize=(15,10))\n",
    "plt.plot(dispersion_coeff)\n",
    "plt.axvline(np.argmin(dispersion_coeff), color='red')\n",
    "plt.xticks(np.arange(len(mean_bic)),couples, rotation='vertical')\n",
    "plt.show()"
   ]
  },
  {
   "cell_type": "code",
   "execution_count": null,
   "metadata": {},
   "outputs": [],
   "source": [
    "plt.figure(figsize=(15,10))\n",
    "final_res = np.array(mean_bic[:-8]) + np.array(dispersion_coeff[:-8])\n",
    "plt.plot(final_res)\n",
    "plt.axvline(np.argmin(final_res), color='red')\n",
    "plt.xticks(np.arange(len(mean_bic[:-8])),couples[:-8], rotation='vertical')\n",
    "plt.show()"
   ]
  },
  {
   "cell_type": "code",
   "execution_count": null,
   "metadata": {},
   "outputs": [],
   "source": [
    "res_no_alpha_fede = res_[2][1]\n",
    "couples = []\n",
    "mean_bic = []\n",
    "std_bic =[]\n",
    "dispersion_coeff = []\n",
    "for k in res_no_alpha_fede.keys():\n",
    "    couples.append(k)\n",
    "    mean_bic.append(res_no_alpha_fede[k]['mean_bic'])\n",
    "    std_bic.append(res_no_alpha_fede[k]['std_bic'])\n",
    "    dispersion_coeff.append(res_no_alpha_fede[k]['dispersion_coefficient'])"
   ]
  },
  {
   "cell_type": "code",
   "execution_count": null,
   "metadata": {},
   "outputs": [],
   "source": [
    "mean_bic, dispersion_coeff"
   ]
  },
  {
   "cell_type": "code",
   "execution_count": null,
   "metadata": {},
   "outputs": [],
   "source": [
    "import matplotlib.pyplot as plt \n",
    "plt.figure(figsize=(15,5))\n",
    "plt.plot(mean_bic)\n",
    "plt.fill_between(np.arange(len(mean_bic)), np.array(mean_bic)-np.array(std_bic),\n",
    "                 np.array(mean_bic)+np.array(std_bic), alpha=0.3)\n",
    "plt.axvline(np.argmin(mean_bic), color='red')\n",
    "plt.xticks(np.arange(len(mean_bic)),couples, rotation='vertical')\n",
    "plt.show()\n",
    "\n",
    "plt.figure(figsize=(15,10))\n",
    "plt.plot(dispersion_coeff)\n",
    "plt.axvline(np.argmin(dispersion_coeff), color='red')\n",
    "plt.xticks(np.arange(len(mean_bic)),couples, rotation='vertical')\n",
    "plt.show()\n",
    "\n",
    "plt.figure(figsize=(15,5))\n",
    "final_res = np.array(mean_bic/np.sum(mean_bic)) + np.array(dispersion_coeff)\n",
    "plt.plot(final_res)\n",
    "plt.axvline(np.argmin(final_res), color='red')\n",
    "plt.xticks(np.arange(len(mean_bic)),couples, rotation='vertical')\n",
    "plt.show()"
   ]
  },
  {
   "cell_type": "code",
   "execution_count": null,
   "metadata": {},
   "outputs": [],
   "source": [
    "res_fede"
   ]
  },
  {
   "cell_type": "code",
   "execution_count": null,
   "metadata": {},
   "outputs": [],
   "source": [
    "mdl = HMM_GraphicalLasso(alpha=0.1, n_clusters=4, verbose=False, mode='scaled',\n",
    "                                         warm_restart=True, repetitions=10,n_jobs=-1)\n",
    "mdl.fit(dataset['data'])"
   ]
  },
  {
   "cell_type": "code",
   "execution_count": null,
   "metadata": {},
   "outputs": [],
   "source": [
    "from importlib import reload\n",
    "\n",
    "import regain.hmm.utils; reload(regain.hmm.utils)\n",
    "from regain.hmm.utils import results_recap\n",
    "results_recap(dataset['states'], mdl.labels_, dataset['thetas'], mdl.precisions_, \n",
    "              dataset['gammas'], mdl.gammas_)"
   ]
  },
  {
   "cell_type": "code",
   "execution_count": null,
   "metadata": {},
   "outputs": [],
   "source": []
  }
 ],
 "metadata": {
  "kernelspec": {
   "display_name": "Python 3",
   "language": "python",
   "name": "python3"
  },
  "language_info": {
   "codemirror_mode": {
    "name": "ipython",
    "version": 3
   },
   "file_extension": ".py",
   "mimetype": "text/x-python",
   "name": "python",
   "nbconvert_exporter": "python",
   "pygments_lexer": "ipython3",
   "version": "3.7.4"
  }
 },
 "nbformat": 4,
 "nbformat_minor": 2
}
