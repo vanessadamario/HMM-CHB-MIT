{
 "cells": [
  {
   "cell_type": "code",
   "execution_count": 4,
   "metadata": {},
   "outputs": [
    {
     "name": "stderr",
     "output_type": "stream",
     "text": [
      "/Users/federicociech/.local/lib/python3.7/site-packages/sklearn/utils/deprecation.py:144: FutureWarning: The sklearn.datasets.base module is  deprecated in version 0.22 and will be removed in version 0.24. The corresponding classes / functions should instead be imported from sklearn.datasets. Anything that cannot be imported from sklearn.datasets is now part of the private API.\n",
      "  warnings.warn(message, FutureWarning)\n",
      "/Users/federicociech/opt/anaconda3/lib/python3.7/site-packages/statsmodels/tools/_testing.py:19: FutureWarning: pandas.util.testing is deprecated. Use the functions in the public API at pandas.testing instead.\n",
      "  import pandas.util.testing as tm\n"
     ]
    }
   ],
   "source": [
    "from regain.datasets.hmm import generate_hmm\n",
    "from regain.hmm.incremental_hmm_graphical_lasso import Incremental_HMM_GraphicalLasso as IncHMM\n",
    "import numpy as np\n",
    "from importlib import reload\n",
    "import regain.hmm.utils; reload(regain.hmm.utils)\n",
    "from regain.hmm.utils import results_recap#,prepare_data_to_predict\n",
    "from regain.hmm.utils import cross_validation\n",
    "from regain.hmm.hmm_graphical_lasso import HMM_GraphicalLasso\n",
    "import matplotlib.pyplot as plt"
   ]
  },
  {
   "cell_type": "code",
   "execution_count": 2,
   "metadata": {},
   "outputs": [],
   "source": [
    "N_samples = 1000\n",
    "N_states = 5\n",
    "N_TS = 10\n",
    "sigma_Normal = 1\n"
   ]
  },
  {
   "cell_type": "code",
   "execution_count": null,
   "metadata": {},
   "outputs": [],
   "source": [
    "Ntrial =8\n",
    "\n",
    "res_Vmeas_batch = 0\n",
    "res_MCC_batch = 0\n",
    "\n",
    "lists_perc_increm = [0.025,0.05,0.075,0.1, 0.15,0.2,0.25,0.3]\n",
    "\n",
    "res_Vmeas_Inc = np.zeros(len(lists_perc_increm))\n",
    "res_MCC_Inc = np.zeros(len(lists_perc_increm))\n",
    "\n",
    "for n in range(Ntrial):\n",
    "\n",
    "\n",
    "    dataset = generate_hmm(n_samples= N_samples,\n",
    "                           n_states=N_states,\n",
    "                           n_dim_obs=N_TS,\n",
    "                           mode_precisions='regain',\n",
    "                           mode_mean = 'Normal',\n",
    "                           transition_type='fixed',\n",
    "                           sigma=sigma_Normal)\n",
    "\n",
    "    lambda_GL = 30\n",
    "    toll = 1e-4\n",
    "    max_iterations = 100\n",
    "    reps = 10\n",
    "\n",
    "        \n",
    "    # Batch\n",
    "    \n",
    "    hmm_gmm = HMM_GraphicalLasso(n_clusters=N_states,\n",
    "                             alpha=lambda_GL,\n",
    "                             tol=toll,\n",
    "                             verbose=False,\n",
    "                             mode='scaled',\n",
    "                             warm_restart=True,\n",
    "                             max_iter=max_iterations,\n",
    "                             repetitions=reps,\n",
    "                             n_jobs=-1)\n",
    "    hmm_gmm.fit(dataset['data'])\n",
    "    res_batch = results_recap(dataset['states'], hmm_gmm.labels_, dataset['thetas'], hmm_gmm.precisions_, \n",
    "                  dataset['gammas'], hmm_gmm.gammas_)\n",
    "    \n",
    "    res_Vmeas_batch += res_batch['v_measure [0, 1]']/Ntrial\n",
    "    res_MCC_batch += res_batch['weighted_mean_mcc [-1, 1]'][0]/Ntrial\n",
    "    \n",
    "    \n",
    "    # Incremental\n",
    "\n",
    "    for ii,perc_increm in enumerate(lists_perc_increm):\n",
    "        mdl = IncHMM(n_clusters=N_states,\n",
    "                     alpha=lambda_GL,\n",
    "                     n_for_init=int(N_samples*(1-perc_increm)),\n",
    "                     max_iter=max_iterations,\n",
    "                     tol=toll,\n",
    "                     verbose=False,\n",
    "                     warm_restart=True,\n",
    "                     repetitions=reps,\n",
    "                     n_jobs=-1)\n",
    "        \n",
    "        mdl.fit(dataset['data'])\n",
    "        res_increm = results_recap(dataset['states'], mdl.labels_, dataset['thetas'], mdl.precisions_, \n",
    "                      dataset['gammas'], mdl.gammas_)\n",
    "        \n",
    "        res_Vmeas_Inc[ii] = res_Vmeas_Inc[ii] + res_increm['v_measure [0, 1]']/Ntrial\n",
    "        res_MCC_Inc[ii] = res_MCC_Inc[ii] + res_increm['weighted_mean_mcc [-1, 1]'][0]/Ntrial"
   ]
  },
  {
   "cell_type": "code",
   "execution_count": 5,
   "metadata": {},
   "outputs": [],
   "source": [
    "resV_tot = []\n",
    "resV_tot.append(res_Vmeas_batch)\n",
    "resV_tot.extend(res_Vmeas_Inc)"
   ]
  },
  {
   "cell_type": "code",
   "execution_count": 27,
   "metadata": {},
   "outputs": [],
   "source": [
    "resM_tot = []\n",
    "resM_tot.append(res_MCC_batch)\n",
    "resM_tot.extend(res_MCC_Inc)"
   ]
  },
  {
   "cell_type": "code",
   "execution_count": null,
   "metadata": {},
   "outputs": [],
   "source": []
  }
 ],
 "metadata": {
  "kernelspec": {
   "display_name": "Python 3",
   "language": "python",
   "name": "python3"
  },
  "language_info": {
   "codemirror_mode": {
    "name": "ipython",
    "version": 3
   },
   "file_extension": ".py",
   "mimetype": "text/x-python",
   "name": "python",
   "nbconvert_exporter": "python",
   "pygments_lexer": "ipython3",
   "version": "3.6.10"
  }
 },
 "nbformat": 4,
 "nbformat_minor": 2
}
