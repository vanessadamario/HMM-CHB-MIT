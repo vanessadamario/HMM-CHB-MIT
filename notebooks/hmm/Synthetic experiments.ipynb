{
 "cells": [
  {
   "cell_type": "code",
   "execution_count": 1,
   "metadata": {},
   "outputs": [
    {
     "ename": "ModuleNotFoundError",
     "evalue": "No module named 'regain'",
     "output_type": "error",
     "traceback": [
      "\u001b[0;31m---------------------------------------------------------------------------\u001b[0m",
      "\u001b[0;31mModuleNotFoundError\u001b[0m                       Traceback (most recent call last)",
      "\u001b[0;32m<ipython-input-1-ca855a288888>\u001b[0m in \u001b[0;36m<module>\u001b[0;34m\u001b[0m\n\u001b[0;32m----> 1\u001b[0;31m \u001b[0;32mfrom\u001b[0m \u001b[0mregain\u001b[0m\u001b[0;34m.\u001b[0m\u001b[0mdatasets\u001b[0m\u001b[0;34m.\u001b[0m\u001b[0mhmm\u001b[0m \u001b[0;32mimport\u001b[0m \u001b[0mgenerate_hmm\u001b[0m\u001b[0;34m\u001b[0m\u001b[0;34m\u001b[0m\u001b[0m\n\u001b[0m\u001b[1;32m      2\u001b[0m \u001b[0;32mfrom\u001b[0m \u001b[0mregain\u001b[0m\u001b[0;34m.\u001b[0m\u001b[0mhmm\u001b[0m\u001b[0;34m.\u001b[0m\u001b[0mhmm_graphical_lasso\u001b[0m \u001b[0;32mimport\u001b[0m \u001b[0mHMM_GraphicalLasso\u001b[0m\u001b[0;34m\u001b[0m\u001b[0;34m\u001b[0m\u001b[0m\n\u001b[1;32m      3\u001b[0m \u001b[0;32mimport\u001b[0m \u001b[0mnumpy\u001b[0m \u001b[0;32mas\u001b[0m \u001b[0mnp\u001b[0m\u001b[0;34m\u001b[0m\u001b[0;34m\u001b[0m\u001b[0m\n",
      "\u001b[0;31mModuleNotFoundError\u001b[0m: No module named 'regain'"
     ]
    }
   ],
   "source": [
    "from regain.datasets.hmm import generate_hmm\n",
    "from regain.hmm.hmm_graphical_lasso import HMM_GraphicalLasso\n",
    "import numpy as np"
   ]
  },
  {
   "cell_type": "code",
   "execution_count": 30,
   "metadata": {},
   "outputs": [],
   "source": [
    "dataset = generate_hmm(n_samples=100, n_states=5, n_dim_obs=5, transition_type='fixed_smooth')"
   ]
  },
  {
   "cell_type": "code",
   "execution_count": 34,
   "metadata": {},
   "outputs": [
    {
     "name": "stderr",
     "output_type": "stream",
     "text": [
      "/home/vero/git_repos/regain/regain/hmm/hmm_graphical_lasso.py:227: UserWarning: The optimisation did not converge.\n",
      "  warnings.warn('The optimisation did not converge.')\n"
     ]
    },
    {
     "data": {
      "text/plain": [
       "HMM_GraphicalLasso(alpha=2, init_params={}, max_iter=100, mode='scaled',\n",
       "          n_clusters=5, n_jobs=1, repetitions=3, tol=0.0001, verbose=False,\n",
       "          warm_restart=True)"
      ]
     },
     "execution_count": 34,
     "metadata": {},
     "output_type": "execute_result"
    }
   ],
   "source": [
    "mdl = HMM_GraphicalLasso(alpha=2, n_clusters=5, verbose=False, mode='scaled', warm_restart=True, repetitions=3,\n",
    "                        n_jobs=1)\n",
    "mdl.fit(dataset['data'])"
   ]
  },
  {
   "cell_type": "code",
   "execution_count": 35,
   "metadata": {},
   "outputs": [],
   "source": [
    "import regain.hmm.utils; reload(regain.hmm.utils)\n",
    "from regain.hmm.utils import results_recap"
   ]
  },
  {
   "cell_type": "code",
   "execution_count": 36,
   "metadata": {},
   "outputs": [
    {
     "data": {
      "text/plain": [
       "{'homogeneity [0, 1]': 0.12452730249921706,\n",
       " 'completeness [0, 1]': 0.10311891974681701,\n",
       " 'v_measure [0, 1]': 0.11281646395015527,\n",
       " 'adjusted_mutual_info [0, 1]': 0.053242167934896015,\n",
       " 'weighted_mean_mcc [-1, 1]': -0.0173322351153794,\n",
       " 'max_cluster_mean_mcc[-1,1]': 0.008866210790363472,\n",
       " 'weighted_mean_f1 [0, 1]': 0.2611448367236274,\n",
       " 'max_cluster_mean_f1[0,1]': 0.2571428571428572,\n",
       " 'probabilities_clusters': array([[0.875     , 0.375     , 0.625     , 0.75      , 0.5625    ],\n",
       "        [0.04545455, 0.18181818, 0.13636364, 0.04545455, 0.09090909],\n",
       "        [0.05882353, 0.41176471, 0.23529412, 0.17647059, 0.29411765],\n",
       "        [0.        , 0.19047619, 0.        , 0.0952381 , 0.33333333],\n",
       "        [0.        , 0.04166667, 0.        , 0.125     , 0.04166667]]),\n",
       " 'max_probabilities_couples': ['Couple: (0, 0), Probability: 0.875, MCC: 0.16666666666666666, F1_score: 0.4',\n",
       "  'Couple: (0, 3), Probability: 0.75, MCC: -0.2721655269759087, F1_score: 0.0',\n",
       "  'Couple: (0, 2), Probability: 0.625, MCC: 0.408248290463863, F1_score: 0.28571428571428575',\n",
       "  'Couple: (0, 4), Probability: 0.5625, MCC: 0.408248290463863, F1_score: 0.4',\n",
       "  'Couple: (2, 1), Probability: 0.4117647058823529, MCC: -0.6666666666666666, F1_score: 0.2']}"
      ]
     },
     "execution_count": 36,
     "metadata": {},
     "output_type": "execute_result"
    }
   ],
   "source": [
    "results_recap(dataset['states'], mdl.labels_, dataset['thetas'], mdl.precisions_, dataset['gammas'], mdl.gammas_)"
   ]
  },
  {
   "cell_type": "code",
   "execution_count": 24,
   "metadata": {},
   "outputs": [
    {
     "data": {
      "text/plain": [
       "{'homogeneity [0, 1]': 0.36093782332464575,\n",
       " 'completeness [0, 1]': 0.31566738815400835,\n",
       " 'v_measure [0, 1]': 0.33678812412895043,\n",
       " 'adjusted_mutual_info [0, 1]': 0.29839157362632857,\n",
       " 'weighted_mean_mcc [-1, 1]': 0.2037122308642789,\n",
       " 'max_cluster_mean_mcc[-1,1]': 0.28630672910443655,\n",
       " 'weighted_mean_f1 [0, 1]': 0.44032215567966865,\n",
       " 'max_cluster_mean_f1[0,1]': 0.41512265512265517,\n",
       " 'probabilities_clusters': array([[0.04545455, 0.72727273, 0.22727273, 0.        , 0.        ],\n",
       "        [0.20833333, 0.25      , 0.70833333, 0.25      , 0.16666667],\n",
       "        [0.04545455, 0.        , 0.        , 0.        , 0.        ],\n",
       "        [0.14285714, 0.04761905, 0.        , 0.52380952, 0.33333333],\n",
       "        [1.09090909, 0.09090909, 0.        , 0.36363636, 0.        ]]),\n",
       " 'max_probabilities_couples': ['Couple: (4, 0), Probability: 1.0909090909090908, MCC: 0.6123724356957946, F1_score: 0.5454545454545454',\n",
       "  'Couple: (0, 1), Probability: 0.7272727272727273, MCC: 0.0, F1_score: 0.4000000000000001',\n",
       "  'Couple: (1, 2), Probability: 0.7083333333333334, MCC: 0.5, F1_score: 0.4444444444444445',\n",
       "  'Couple: (3, 3), Probability: 0.5238095238095238, MCC: -0.0890870806374748, F1_score: 0.28571428571428575',\n",
       "  'Couple: (3, 4), Probability: 0.3333333333333333, MCC: 0.408248290463863, F1_score: 0.4']}"
      ]
     },
     "execution_count": 24,
     "metadata": {},
     "output_type": "execute_result"
    }
   ],
   "source": [
    "results_recap(dataset['states'], labels_viterbi, dataset['thetas'], mdl.precisions_, dataset['gammas'], mdl.gammas_)"
   ]
  },
  {
   "cell_type": "markdown",
   "metadata": {},
   "source": [
    "mld.thetas_"
   ]
  },
  {
   "cell_type": "code",
   "execution_count": 20,
   "metadata": {},
   "outputs": [
    {
     "name": "stderr",
     "output_type": "stream",
     "text": [
      "/home/vero/git_repos/regain/regain/hmm/utils.py:16: RuntimeWarning: divide by zero encountered in log\n",
      "  omega[0, :] = np.log(pis) + np.log(probabilities[0, :])\n"
     ]
    }
   ],
   "source": [
    "from importlib import reload\n",
    "import regain.hmm.utils; reload(regain.hmm.utils)\n",
    "from regain.hmm.utils import viterbi \n",
    "\n",
    "labels_viterbi = viterbi(dataset['data'], mdl.state_change, mdl.probabilities_, mdl.pis_)"
   ]
  },
  {
   "cell_type": "code",
   "execution_count": 26,
   "metadata": {},
   "outputs": [],
   "source": [
    "from importlib import reload \n",
    "import regain.hmm.utils; reload(regain.hmm.utils)\n",
    "from regain.hmm.utils import cross_validation"
   ]
  },
  {
   "cell_type": "code",
   "execution_count": 28,
   "metadata": {},
   "outputs": [
    {
     "name": "stderr",
     "output_type": "stream",
     "text": [
      "  0%|          | 0/4 [00:00<?, ?it/s]\n",
      "  0%|          | 0/5 [00:00<?, ?it/s]\u001b[A\n",
      " 20%|██        | 1/5 [00:23<01:34, 23.59s/it]\u001b[A\n",
      " 40%|████      | 2/5 [01:23<01:43, 34.52s/it]\u001b[A\n",
      " 60%|██████    | 3/5 [03:04<01:48, 54.36s/it]\u001b[A\n",
      " 80%|████████  | 4/5 [05:07<01:14, 74.96s/it]\u001b[A\n",
      "100%|██████████| 5/5 [07:05<00:00, 85.10s/it]\u001b[A\n",
      " 25%|██▌       | 1/4 [07:05<21:16, 425.51s/it]\n",
      "  0%|          | 0/5 [00:00<?, ?it/s]\u001b[A\n",
      " 20%|██        | 1/5 [00:22<01:31, 22.96s/it]\u001b[A\n",
      " 40%|████      | 2/5 [01:16<01:36, 32.16s/it]\u001b[A\n",
      " 60%|██████    | 3/5 [02:43<01:36, 48.48s/it]\u001b[A\n",
      " 80%|████████  | 4/5 [04:43<01:09, 69.97s/it]\u001b[A\n",
      "100%|██████████| 5/5 [07:45<00:00, 93.02s/it] \u001b[A\n",
      " 50%|█████     | 2/4 [14:50<14:34, 437.39s/it]\n",
      "  0%|          | 0/5 [00:00<?, ?it/s]\u001b[A\n",
      " 20%|██        | 1/5 [00:31<02:04, 31.07s/it]\u001b[A\n",
      " 40%|████      | 2/5 [01:08<01:38, 32.87s/it]\u001b[A\n",
      " 60%|██████    | 3/5 [03:03<01:54, 57.49s/it]\u001b[A\n",
      " 80%|████████  | 4/5 [05:31<01:24, 84.76s/it]\u001b[A\n",
      "100%|██████████| 5/5 [08:24<00:00, 100.90s/it]\u001b[A\n",
      " 75%|███████▌  | 3/4 [23:15<07:37, 457.52s/it]\n",
      "  0%|          | 0/5 [00:00<?, ?it/s]\u001b[A\n",
      " 20%|██        | 1/5 [00:21<01:25, 21.38s/it]\u001b[A\n",
      " 40%|████      | 2/5 [00:51<01:11, 23.88s/it]\u001b[A\n",
      " 60%|██████    | 3/5 [02:42<01:40, 50.17s/it]\u001b[A\n",
      " 80%|████████  | 4/5 [04:53<01:14, 74.28s/it]\u001b[A\n",
      "100%|██████████| 5/5 [07:36<00:00, 91.40s/it] \u001b[A\n",
      "100%|██████████| 4/4 [30:52<00:00, 463.03s/it]\n"
     ]
    }
   ],
   "source": [
    "res = cross_validation(mdl, dataset['data'], params={'alpha':[0.01, 0.1, 1, 10],\n",
    "                                               'n_clusters':[3,4,5,6,7]},\n",
    "                 mode=None, n_repetitions=10)"
   ]
  },
  {
   "cell_type": "code",
   "execution_count": null,
   "metadata": {},
   "outputs": [],
   "source": [
    "1/ np.abs(np.log(10))"
   ]
  },
  {
   "cell_type": "code",
   "execution_count": null,
   "metadata": {},
   "outputs": [],
   "source": [
    "1/np.abs(np.log(0.001))"
   ]
  },
  {
   "cell_type": "code",
   "execution_count": null,
   "metadata": {},
   "outputs": [],
   "source": []
  }
 ],
 "metadata": {
  "kernelspec": {
   "display_name": "Python 3",
   "language": "python",
   "name": "python3"
  },
  "language_info": {
   "codemirror_mode": {
    "name": "ipython",
    "version": 3
   },
   "file_extension": ".py",
   "mimetype": "text/x-python",
   "name": "python",
   "nbconvert_exporter": "python",
   "pygments_lexer": "ipython3",
   "version": "3.7.4"
  }
 },
 "nbformat": 4,
 "nbformat_minor": 2
}
