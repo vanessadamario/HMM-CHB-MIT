{
 "cells": [
  {
   "cell_type": "code",
   "execution_count": 1,
   "metadata": {},
   "outputs": [],
   "source": [
    "from regain.datasets.hmm import generate_hmm\n",
    "from regain.hmm.hmm_graphical_lasso import HMM_GraphicalLasso\n",
    "import numpy as np"
   ]
  },
  {
   "cell_type": "code",
   "execution_count": 18,
   "metadata": {},
   "outputs": [],
   "source": [
    "dataset = generate_hmm(n_samples=100, n_states=5, n_dim_obs=5, transition_type='fixed')"
   ]
  },
  {
   "cell_type": "code",
   "execution_count": 19,
   "metadata": {},
   "outputs": [
    {
     "data": {
      "text/plain": [
       "HMM_GraphicalLasso(alpha=2, init_params={}, max_iter=100, mode='scaled',\n",
       "          n_clusters=5, n_jobs=-1, repetitions=10, tol=0.0001,\n",
       "          verbose=False, warm_restart=True)"
      ]
     },
     "execution_count": 19,
     "metadata": {},
     "output_type": "execute_result"
    }
   ],
   "source": [
    "mdl = HMM_GraphicalLasso(alpha=2, n_clusters=5, verbose=False, mode='scaled', warm_restart=True, repetitions=10,\n",
    "                        n_jobs=-1)\n",
    "mdl.fit(dataset['data'])"
   ]
  },
  {
   "cell_type": "code",
   "execution_count": 22,
   "metadata": {},
   "outputs": [],
   "source": [
    "import regain.hmm.utils; reload(regain.hmm.utils)\n",
    "from regain.hmm.utils import results_recap"
   ]
  },
  {
   "cell_type": "code",
   "execution_count": 23,
   "metadata": {},
   "outputs": [
    {
     "data": {
      "text/plain": [
       "{'homogeneity [0, 1]': 0.36093782332464575,\n",
       " 'completeness [0, 1]': 0.31566738815400835,\n",
       " 'v_measure [0, 1]': 0.33678812412895043,\n",
       " 'adjusted_mutual_info [0, 1]': 0.29839157362632857,\n",
       " 'weighted_mean_mcc [-1, 1]': 0.2037122308642789,\n",
       " 'max_cluster_mean_mcc[-1,1]': 0.28630672910443655,\n",
       " 'weighted_mean_f1 [0, 1]': 0.44032215567966865,\n",
       " 'max_cluster_mean_f1[0,1]': 0.41512265512265517,\n",
       " 'probabilities_clusters': array([[0.04545455, 0.72727273, 0.22727273, 0.        , 0.        ],\n",
       "        [0.20833333, 0.25      , 0.70833333, 0.25      , 0.16666667],\n",
       "        [0.04545455, 0.        , 0.        , 0.        , 0.        ],\n",
       "        [0.14285714, 0.04761905, 0.        , 0.52380952, 0.33333333],\n",
       "        [1.09090909, 0.09090909, 0.        , 0.36363636, 0.        ]]),\n",
       " 'max_probabilities_couples': ['Couple: (4, 0), Probability: 1.0909090909090908, MCC: 0.6123724356957946, F1_score: 0.5454545454545454',\n",
       "  'Couple: (0, 1), Probability: 0.7272727272727273, MCC: 0.0, F1_score: 0.4000000000000001',\n",
       "  'Couple: (1, 2), Probability: 0.7083333333333334, MCC: 0.5, F1_score: 0.4444444444444445',\n",
       "  'Couple: (3, 3), Probability: 0.5238095238095238, MCC: -0.0890870806374748, F1_score: 0.28571428571428575',\n",
       "  'Couple: (3, 4), Probability: 0.3333333333333333, MCC: 0.408248290463863, F1_score: 0.4']}"
      ]
     },
     "execution_count": 23,
     "metadata": {},
     "output_type": "execute_result"
    }
   ],
   "source": [
    "results_recap(dataset['states'], mdl.labels_, dataset['thetas'], mdl.precisions_, dataset['gammas'], mdl.gammas_)"
   ]
  },
  {
   "cell_type": "code",
   "execution_count": 24,
   "metadata": {},
   "outputs": [
    {
     "data": {
      "text/plain": [
       "{'homogeneity [0, 1]': 0.36093782332464575,\n",
       " 'completeness [0, 1]': 0.31566738815400835,\n",
       " 'v_measure [0, 1]': 0.33678812412895043,\n",
       " 'adjusted_mutual_info [0, 1]': 0.29839157362632857,\n",
       " 'weighted_mean_mcc [-1, 1]': 0.2037122308642789,\n",
       " 'max_cluster_mean_mcc[-1,1]': 0.28630672910443655,\n",
       " 'weighted_mean_f1 [0, 1]': 0.44032215567966865,\n",
       " 'max_cluster_mean_f1[0,1]': 0.41512265512265517,\n",
       " 'probabilities_clusters': array([[0.04545455, 0.72727273, 0.22727273, 0.        , 0.        ],\n",
       "        [0.20833333, 0.25      , 0.70833333, 0.25      , 0.16666667],\n",
       "        [0.04545455, 0.        , 0.        , 0.        , 0.        ],\n",
       "        [0.14285714, 0.04761905, 0.        , 0.52380952, 0.33333333],\n",
       "        [1.09090909, 0.09090909, 0.        , 0.36363636, 0.        ]]),\n",
       " 'max_probabilities_couples': ['Couple: (4, 0), Probability: 1.0909090909090908, MCC: 0.6123724356957946, F1_score: 0.5454545454545454',\n",
       "  'Couple: (0, 1), Probability: 0.7272727272727273, MCC: 0.0, F1_score: 0.4000000000000001',\n",
       "  'Couple: (1, 2), Probability: 0.7083333333333334, MCC: 0.5, F1_score: 0.4444444444444445',\n",
       "  'Couple: (3, 3), Probability: 0.5238095238095238, MCC: -0.0890870806374748, F1_score: 0.28571428571428575',\n",
       "  'Couple: (3, 4), Probability: 0.3333333333333333, MCC: 0.408248290463863, F1_score: 0.4']}"
      ]
     },
     "execution_count": 24,
     "metadata": {},
     "output_type": "execute_result"
    }
   ],
   "source": [
    "results_recap(dataset['states'], labels_viterbi, dataset['thetas'], mdl.precisions_, dataset['gammas'], mdl.gammas_)"
   ]
  },
  {
   "cell_type": "markdown",
   "metadata": {},
   "source": [
    "mld.thetas_"
   ]
  },
  {
   "cell_type": "code",
   "execution_count": 20,
   "metadata": {},
   "outputs": [
    {
     "name": "stderr",
     "output_type": "stream",
     "text": [
      "/home/vero/git_repos/regain/regain/hmm/utils.py:16: RuntimeWarning: divide by zero encountered in log\n",
      "  omega[0, :] = np.log(pis) + np.log(probabilities[0, :])\n"
     ]
    }
   ],
   "source": [
    "from importlib import reload\n",
    "import regain.hmm.utils; reload(regain.hmm.utils)\n",
    "from regain.hmm.utils import viterbi \n",
    "\n",
    "labels_viterbi = viterbi(dataset['data'], mdl.state_change, mdl.probabilities_, mdl.pis_)"
   ]
  },
  {
   "cell_type": "code",
   "execution_count": 26,
   "metadata": {},
   "outputs": [],
   "source": [
    "from importlib import reload \n",
    "import regain.hmm.utils; reload(regain.hmm.utils)\n",
    "from regain.hmm.utils import cross_validation"
   ]
  },
  {
   "cell_type": "code",
   "execution_count": null,
   "metadata": {},
   "outputs": [
    {
     "name": "stderr",
     "output_type": "stream",
     "text": [
      "  0%|          | 0/4 [00:00<?, ?it/s]\n",
      "  0%|          | 0/5 [00:00<?, ?it/s]\u001b[A\n",
      " 20%|██        | 1/5 [00:23<01:33, 23.46s/it]\u001b[A\n",
      " 40%|████      | 2/5 [01:19<01:40, 33.36s/it]\u001b[A\n",
      " 60%|██████    | 3/5 [03:00<01:46, 53.45s/it]\u001b[A\n",
      " 80%|████████  | 4/5 [05:12<01:17, 77.04s/it]\u001b[A"
     ]
    }
   ],
   "source": [
    "cross_validation(mdl, dataset['data'], params={'alpha':[0.01, 0.1, 1, 10],\n",
    "                                               'n_clusters':[3,4,5,6,7]},\n",
    "                 mode=None, n_repetitions=10)"
   ]
  },
  {
   "cell_type": "code",
   "execution_count": null,
   "metadata": {},
   "outputs": [],
   "source": [
    "1/ np.abs(np.log(10))"
   ]
  },
  {
   "cell_type": "code",
   "execution_count": null,
   "metadata": {},
   "outputs": [],
   "source": [
    "1/np.abs(np.log(0.001))"
   ]
  },
  {
   "cell_type": "code",
   "execution_count": null,
   "metadata": {},
   "outputs": [],
   "source": []
  }
 ],
 "metadata": {
  "kernelspec": {
   "display_name": "Python 3",
   "language": "python",
   "name": "python3"
  },
  "language_info": {
   "codemirror_mode": {
    "name": "ipython",
    "version": 3
   },
   "file_extension": ".py",
   "mimetype": "text/x-python",
   "name": "python",
   "nbconvert_exporter": "python",
   "pygments_lexer": "ipython3",
   "version": "3.6.5"
  }
 },
 "nbformat": 4,
 "nbformat_minor": 2
}
