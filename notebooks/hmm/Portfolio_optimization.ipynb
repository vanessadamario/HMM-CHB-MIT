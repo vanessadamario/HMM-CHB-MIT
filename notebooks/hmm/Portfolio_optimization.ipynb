{
 "cells": [
  {
   "cell_type": "code",
   "execution_count": 1,
   "metadata": {},
   "outputs": [],
   "source": [
    "import numpy as np\n",
    "import pandas as pd\n",
    "from regain.hmm.utils_portfolio_optimization import PO_minimum_variance"
   ]
  },
  {
   "cell_type": "code",
   "execution_count": 2,
   "metadata": {},
   "outputs": [],
   "source": [
    "assets_names = [\"MSFT\",\"NORD\",\"SBUX\"]\n",
    "mu = [0.0427,0.0015, 0.0285]\n",
    "cov =[[0.0100, 0.0018, 0.0011],[0.0018, 0.0109, 0.0026],[0.0011, 0.0026, 0.0199]]"
   ]
  },
  {
   "cell_type": "code",
   "execution_count": 45,
   "metadata": {},
   "outputs": [
    {
     "name": "stdout",
     "output_type": "stream",
     "text": [
      "             MSFT      NORD      SBUX\n",
      "weights  0.441109  0.365626  0.193264\n",
      "Expected portfolio return 0.024891841503946688\n",
      "Expected portfolio variance 0.005281810864146239\n"
     ]
    }
   ],
   "source": [
    "# Portfolio optimization with minimum variace\n",
    "\n",
    "A = np.zeros((len(assets_names)+1,len(assets_names)+1))\n",
    "\n",
    "A[:-1,:-1] = 2*np.array(cov)\n",
    "A[:-1,-1] = np.repeat(1,len(assets_names))\n",
    "A[-1,:-1] = np.repeat(1,len(assets_names))\n",
    "\n",
    "b= np.zeros(len(assets_names)+1)\n",
    "b[-1]=1\n",
    "\n",
    "weights = np.matmul(np.linalg.pinv(A), b)[:-1]\n",
    "\n",
    "Min_var_weights = pd.DataFrame([weights],columns=assets_names,index=['weights'])\n",
    "exp_port = np.matmul(weights.transpose(),mu)\n",
    "var_port = np.matmul(np.matmul(weights.transpose(),cov),weights)\n",
    "\n",
    "print(Min_var_weights)\n",
    "print('Expected portfolio return',exp_port)\n",
    "print('Expected portfolio variance',var_port)\n"
   ]
  },
  {
   "cell_type": "code",
   "execution_count": 46,
   "metadata": {},
   "outputs": [
    {
     "name": "stdout",
     "output_type": "stream",
     "text": [
      "             MSFT      NORD      SBUX\n",
      "weights  0.827455 -0.090746  0.263292\n",
      "Expected portfolio return 0.0427\n",
      "Expected portfolio variance 0.00840082325604343\n"
     ]
    }
   ],
   "source": [
    "# Minimum variance portfolio with expected returns\n",
    "\n",
    "mu_p = 0.0427\n",
    "\n",
    "A = np.zeros((len(assets_names)+2,len(assets_names)+2))\n",
    "\n",
    "A[:-2,:-2] = 2*np.array(cov)\n",
    "A[:-2,-2] = mu\n",
    "A[-2,:-2] = mu\n",
    "A[:-2,-1] = np.repeat(1,len(assets_names))\n",
    "A[-1,:-2] = np.repeat(1,len(assets_names))\n",
    "\n",
    "b= np.zeros(len(assets_names)+2)\n",
    "b[-2]=mu_p\n",
    "b[-1]=1\n",
    "\n",
    "weights = np.matmul(np.linalg.pinv(A), b)[:-2]\n",
    "var_port = np.matmul(np.matmul(weights.transpose(),cov),weights)\n",
    "\n",
    "Min_var_weights = pd.DataFrame([weights],columns=assets_names,index=['weights'])\n",
    "\n",
    "print(Min_var_weights)\n",
    "print('Expected portfolio return',mu_p)\n",
    "print('Expected portfolio variance',var_port)"
   ]
  },
  {
   "cell_type": "code",
   "execution_count": 58,
   "metadata": {},
   "outputs": [
    {
     "name": "stdout",
     "output_type": "stream",
     "text": [
      "             MSFT      NORD      SBUX\n",
      "weights  1.026823 -0.326251  0.299428\n",
      "Expected portfolio return 0.05188966661993492\n",
      "Expected portfolio variance 0.012450448618355814\n"
     ]
    }
   ],
   "source": [
    "# Tangency portfolio\n",
    "\n",
    "rf = 0.005\n",
    "prec = np.linalg.pinv(cov)\n",
    "diff = mu-np.repeat(rf,len(mu))\n",
    "num = np.matmul(prec, diff)\n",
    "den = np.matmul(np.repeat(1,len(mu)).transpose(),num)\n",
    "\n",
    "t = num/den\n",
    "\n",
    "tan_weights = pd.DataFrame([t],columns=assets_names,index=['weights'])\n",
    "mu_p = np.matmul(t.transpose(),mu)\n",
    "var_port = np.matmul(np.matmul(t.transpose(),cov),t)\n",
    "print(tan_weights)\n",
    "print('Expected portfolio return',mu_p)\n",
    "print('Expected portfolio variance',var_port)"
   ]
  },
  {
   "cell_type": "code",
   "execution_count": null,
   "metadata": {},
   "outputs": [],
   "source": []
  }
 ],
 "metadata": {
  "kernelspec": {
   "display_name": "Python 3",
   "language": "python",
   "name": "python3"
  },
  "language_info": {
   "codemirror_mode": {
    "name": "ipython",
    "version": 3
   },
   "file_extension": ".py",
   "mimetype": "text/x-python",
   "name": "python",
   "nbconvert_exporter": "python",
   "pygments_lexer": "ipython3",
   "version": "3.7.4"
  }
 },
 "nbformat": 4,
 "nbformat_minor": 2
}
