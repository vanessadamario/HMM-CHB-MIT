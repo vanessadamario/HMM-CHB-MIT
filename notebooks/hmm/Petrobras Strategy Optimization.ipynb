{
 "cells": [
  {
   "cell_type": "code",
   "execution_count": 11,
   "metadata": {},
   "outputs": [],
   "source": [
    "import numpy as np\n",
    "from regain.data.base import load_Petrobras\n",
    "from regain.hmm.higher_order_hmm_graphical_lasso import HMM_GraphicalLasso\n",
    "from regain.hmm.utils import corr_plot,plot_results_cluster,cov2corr,cluster_returns_recap\n",
    "import matplotlib.pyplot as plt\n",
    "from decimal import Decimal\n",
    "import pandas as pd"
   ]
  },
  {
   "cell_type": "markdown",
   "metadata": {},
   "source": [
    "## Load data"
   ]
  },
  {
   "cell_type": "code",
   "execution_count": null,
   "metadata": {},
   "outputs": [],
   "source": [
    "Petrob, BrazCurr,WTI = load_Petrobras()\n"
   ]
  },
  {
   "cell_type": "code",
   "execution_count": null,
   "metadata": {},
   "outputs": [],
   "source": [
    "ind_WTI = np.zeros(np.size(WTI.index),bool)\n",
    "for i,date in enumerate(WTI.index):\n",
    "    ind_WTI[i] = np.any(Petrob.index==date)\n",
    "\n",
    "\n",
    "New_Dates = WTI.index[ind_WTI]\n",
    "\n",
    "\n",
    "ind_braz = np.zeros(np.size(BrazCurr.index),bool)\n",
    "for i,date in enumerate(BrazCurr.index):\n",
    "    ind_braz[i] = np.any(New_Dates==date)\n",
    " \n",
    "ind_Petr = np.zeros(np.size(Petrob.index),bool)\n",
    "for i,date in enumerate(Petrob.index):\n",
    "    ind_Petr[i] = np.any(New_Dates==date)\n"
   ]
  },
  {
   "cell_type": "code",
   "execution_count": null,
   "metadata": {},
   "outputs": [],
   "source": [
    "BrazCurr_filt = BrazCurr['Ultimo'].values[ind_braz]\n",
    "WTI_filt = WTI['Ultimo'].values[ind_WTI]\n",
    "Petrob_filt = Petrob['Ultimo'].values[ind_Petr]\n",
    "data = np.zeros((np.size(BrazCurr_filt),3))\n",
    "\n",
    "for i in range(np.size(BrazCurr_filt)):\n",
    "    data[i,0] = float(BrazCurr_filt[i].replace(',','.'))\n",
    "    data[i,1] = float(Petrob_filt[i].replace(',','.'))\n",
    "    data[i,2] = float(WTI_filt[i].replace(',','.'))\n"
   ]
  },
  {
   "cell_type": "markdown",
   "metadata": {},
   "source": [
    "## Compute returns"
   ]
  },
  {
   "cell_type": "code",
   "execution_count": null,
   "metadata": {},
   "outputs": [],
   "source": [
    "\n",
    "returns_mat = np.zeros((np.size(data,axis = 0)-1,np.size(data,axis = 1)))\n",
    "\n",
    "for i in range(1,np.size(data,axis = 0)):\n",
    "    returns_mat[i-1,:] = (data[i,:]-data[i-1,:])/data[i-1,:]*100\n",
    "returns_mat = np.flip(returns_mat,axis=0)\n",
    "\n",
    "plt.plot(returns_mat)\n",
    "plt.show()"
   ]
  },
  {
   "cell_type": "markdown",
   "metadata": {},
   "source": [
    "## Plot data"
   ]
  },
  {
   "cell_type": "code",
   "execution_count": null,
   "metadata": {},
   "outputs": [],
   "source": [
    "import matplotlib.pyplot as plt\n",
    "\n",
    "\n",
    "def make_patch_spines_invisible(ax):\n",
    "    ax.set_frame_on(True)\n",
    "    ax.patch.set_visible(False)\n",
    "    for sp in ax.spines.values():\n",
    "        sp.set_visible(False)\n",
    "\n",
    "\n",
    "fig, host = plt.subplots()\n",
    "fig.subplots_adjust(right=0.75)\n",
    "\n",
    "par1 = host.twinx()\n",
    "par2 = host.twinx()\n",
    "\n",
    "# Offset the right spine of par2.  The ticks and label have already been\n",
    "# placed on the right by twinx above.\n",
    "par2.spines[\"right\"].set_position((\"axes\", 1.2))\n",
    "# Having been created by twinx, par2 has its frame off, so the line of its\n",
    "# detached spine is invisible.  First, activate the frame but make the patch\n",
    "# and spines invisible.\n",
    "make_patch_spines_invisible(par2)\n",
    "# Second, show the right spine.\n",
    "par2.spines[\"right\"].set_visible(True)\n",
    "\n",
    "p1, = host.plot(data[:,0], \"b-\", label=\"Braz_Curr\")\n",
    "p2, = par1.plot(data[:,1], \"r-\", label=\"Petrobras\")\n",
    "p3, = par2.plot(data[:,2], \"g-\", label=\"WTI\")\n",
    "\n",
    "\n",
    "host.set_ylabel(\"Braz_Curr\")\n",
    "par1.set_ylabel(\"Petrobras\")\n",
    "par2.set_ylabel(\"WTI\")\n",
    "\n",
    "host.yaxis.label.set_color(p1.get_color())\n",
    "par1.yaxis.label.set_color(p2.get_color())\n",
    "par2.yaxis.label.set_color(p3.get_color())\n",
    "\n",
    "tkw = dict(size=4, width=1.5)\n",
    "host.tick_params(axis='y', colors=p1.get_color(), **tkw)\n",
    "par1.tick_params(axis='y', colors=p2.get_color(), **tkw)\n",
    "par2.tick_params(axis='y', colors=p3.get_color(), **tkw)\n",
    "host.tick_params(axis='x', **tkw)\n",
    "\n",
    "lines = [p1, p2, p3]\n",
    "\n",
    "host.legend(lines, [l.get_label() for l in lines])\n",
    "\n",
    "plt.show()"
   ]
  },
  {
   "cell_type": "markdown",
   "metadata": {},
   "source": [
    "# Investment results"
   ]
  },
  {
   "cell_type": "code",
   "execution_count": null,
   "metadata": {},
   "outputs": [],
   "source": [
    "from regain.hmm.utils_portfolio_optimization import PO_with_HMM_GMM\n",
    "N_backtest = 1000\n",
    "Invest_wealth = 1e5\n",
    "\n",
    "\n",
    "res_pred,res_today,res_emp = PO_with_HMM_GMM(returns_mat,\n",
    "                                     data[1:,:],\n",
    "                                     np.linspace(0,50,3),\n",
    "                                     [2,3],\n",
    "                                     N_max_mem = 1500,\n",
    "                                     N_test=N_backtest,\n",
    "                                     Wealth=Invest_wealth,\n",
    "                                     mu_p= 0.1,\n",
    "                                     OP_method = 'Min_Var_Fix_return',\n",
    "                                     leverage=True)"
   ]
  },
  {
   "cell_type": "code",
   "execution_count": null,
   "metadata": {},
   "outputs": [],
   "source": [
    "rcParams.update({'font.size':15})\n",
    "\n",
    "fig3 = plt.figure(constrained_layout=True, figsize=(15,8))\n",
    "gs = fig3.add_gridspec(5, 2)\n",
    "f3_ax1 = fig3.add_subplot(gs[0:2, :-1])\n",
    "f3_ax2 = fig3.add_subplot(gs[2, :-1])\n",
    "f3_ax3 = fig3.add_subplot(gs[3, :-1])\n",
    "f3_ax4 = fig3.add_subplot(gs[4, :-1])\n",
    "f3_ax5 = fig3.add_subplot(gs[:, 1])\n",
    "\n",
    "f3_ax1.plot(dates,data[-2500:-865,0]/np.max(data[-2500:-865,0]), \"b-\", label=\"USD/BRL\")\n",
    "f3_ax1.plot(dates,data[-2500:-865,1]/np.max(data[-2500:-865,1]), \"r-\", label=\"PETR4\")\n",
    "f3_ax1.plot(dates,data[-2500:-865,2]/np.max(data[-2500:-865,2]), \"g-\", label=\"WTI Crude Oil\")\n",
    "\n",
    "f3_ax1.set_xticklabels([])\n",
    "f3_ax1.legend(ncol=3, bbox_to_anchor=(0.067, 1.005), fontsize=14)\n",
    "\n",
    "f3_ax1.set_ylabel('Normalized prices')\n",
    "\n",
    "\n",
    "\n",
    "f3_ax2.plot(dates, [(data[i,0] - data[i-1, 0])/data[i-1, 0]*100 for i in range(-2500, -865)], \"b-\")\n",
    "f3_ax3.plot(dates, [(data[i,1] - data[i-1, 1])/data[i-1, 1]*100 for i in range(-2500, -865)], \"r-\")\n",
    "f3_ax4.plot(dates, [(data[i,2] - data[i-1, 2])/data[i-1, 2]*100 for i in range(-2500, -865)], \"g-\")\n",
    "\n",
    "f3_ax2.set_yticks([-5, 0, 5])\n",
    "f3_ax2.set_yticklabels(['  -5 %', '0 %', '  5 %'])\n",
    "\n",
    "f3_ax2.set_xticklabels([])\n",
    "f3_ax2.set_ylabel('Variation')\n",
    "\n",
    "\n",
    "\n",
    "f3_ax3.set_yticks([-10, 0, 10])\n",
    "f3_ax3.set_yticklabels(['-10 %', '0 %', '10 %'])\n",
    "\n",
    "\n",
    "f3_ax3.set_xticklabels([])\n",
    "\n",
    "f3_ax3.set_ylabel('Variation')\n",
    "\n",
    "f3_ax4.set_yticks([-10, 0, 10])\n",
    "f3_ax4.set_yticklabels(['-10 %', '0 %', '10 %'])\n",
    "\n",
    "f3_ax4.set_ylabel('Variation')\n",
    "#f3_ax4.set_xlabel('Dates')\n",
    "\n",
    "# lines = [p1, p2, p3]\n",
    "f3_ax5.plot(dates[-165:],np.cumsum(res_pred)/1000, lw=3, color='C0', label='HMM-GGM')\n",
    "f3_ax5.plot(dates[-165:],np.cumsum(res_emp)/1000, lw=3, color='C3',label='Emp_cov(50 days)')\n",
    "f3_ax5.legend(ncol=2, bbox_to_anchor=(0.9, 1.1), fontsize=14)\n",
    "f3_ax5.set_xticklabels(dates[-165:], rotation=90)\n",
    "#f3_ax5.set_xlabel('Dates')\n",
    "\n",
    "\n",
    "\n",
    "\n",
    "degrees = 90\n",
    "#f3_ax5.set_xticks(rotation=degrees)\n",
    "f3_ax5.yaxis.tick_right()\n",
    "f3_ax5.yaxis.set_label_position(\"right\")\n",
    "f3_ax5.set_ylabel('P&L')\n",
    "f3_ax5.set_yticklabels([str(int(t))+' %' for t in f3_ax5.get_yticks()])\n",
    "f3_ax5.grid()\n",
    "\n",
    "plt.tight_layout()\n",
    "#plt.ylabel(\"Percent of capital\\n\")\n",
    "#host.legend(lines, [l.get_label() for l in lines],loc='lower right', bbox_to_anchor=(1, 0.5))\n",
    "plt.savefig(\"investement_real_data.pdf\", dpi=200, bbox_inches='tight', transparent=True)\n",
    "#plt.show()"
   ]
  },
  {
   "cell_type": "markdown",
   "metadata": {},
   "source": [
    "## Regression results"
   ]
  },
  {
   "cell_type": "code",
   "execution_count": null,
   "metadata": {},
   "outputs": [],
   "source": [
    "from regain.hmm.utils_pred import reg_pred_HMM_GMM\n",
    "N_pred = 30\n",
    "Data = data[-2500:-865,:]\n",
    "ret = returns_mat[-2500:-865,:]\n",
    "\n",
    "\n",
    "\n",
    "ret_pred,_, Val_Pred =   reg_pred_HMM_GMM(ret,\n",
    "                                   Data,\n",
    "                                   [10,20,30,40,50],\n",
    "                                   [2,3,4],\n",
    "                                   N_retrain = N_pred,\n",
    "                                   N_val = N_pred,\n",
    "                                   p=2,\n",
    "                                   N_test = N_pred,\n",
    "                                   meth = 'viterbi',\n",
    "                                   pred_meth = 'rolling',\n",
    "                                   recrossval = False,\n",
    "                                   CV_meth = 'reg',\n",
    "                                   perc_var=True)"
   ]
  },
  {
   "cell_type": "code",
   "execution_count": null,
   "metadata": {},
   "outputs": [],
   "source": [
    "from notebooks.hmm.pred_func import pred_regression_methods\n",
    "methods = ['lgb','LSTM','VAR','Kernel_RBF']\n",
    "res_regre = []\n",
    "\n",
    "for meth in methods:\n",
    "\n",
    "    _, Val_pred, _ = pred_regression_methods(Data,ret,\n",
    "                                    N_test=N_pred,\n",
    "                                    method = meth,\n",
    "                                    N_val = N_pred,\n",
    "                                    pred_meth = 'rolling',\n",
    "                                    p = 2,\n",
    "                                    plot=False,\n",
    "                                    perc_var=True)\n",
    "    res_regre.append(Val_pred)"
   ]
  },
  {
   "cell_type": "code",
   "execution_count": null,
   "metadata": {},
   "outputs": [],
   "source": [
    "res_regre.append(Val_Pred)\n",
    "methods.append('HHM_GGM2')"
   ]
  },
  {
   "cell_type": "code",
   "execution_count": null,
   "metadata": {},
   "outputs": [],
   "source": [
    "figsizex=15\n",
    "figsizey=20\n",
    "N_per_rows=2\n",
    "N_mem = 10\n",
    "N_test = N_pred\n",
    "Dates = None\n",
    "columns = None\n",
    "N_TS = np.size(Data, axis=1)\n",
    "\n",
    "\n",
    "N_rows = int(np.ceil(N_TS / N_per_rows))\n",
    "f, axes = plt.subplots(N_rows, N_per_rows, figsize=(figsizex, figsizey))\n",
    "list_all = []\n",
    "for ts in range(N_TS):\n",
    "    i = int(ts / N_per_rows)\n",
    "    j = np.remainder(ts, N_per_rows)\n",
    "    \n",
    "    for n,Value_pred in enumerate(res_regre):\n",
    "        \n",
    "        absolute_error = abs(Data[-(N_test):,ts]-Value_pred[:,ts])\n",
    "        MAE = np.mean(absolute_error)\n",
    "        std = np.std(absolute_error)\n",
    "        \n",
    "\n",
    "        if Dates is None:\n",
    "            x_mem = np.arange(N_mem + N_test)\n",
    "            x = np.arange(N_mem,N_mem + N_test)\n",
    "            if n==0:\n",
    "                axes[i, j].plot(x_mem, Data[-(N_mem+N_test):,ts],label='real')\n",
    "                #axes[i, j].plot(x, Data[-(N_test):,ts], 'o', label='real')\n",
    "            axes[i, j].plot(x, Value_pred[:,ts],  label='pred '+str(methods[n]))\n",
    "            if columns is None:\n",
    "                axes[i, j].set_title('var ' + str(ts) + ' forecast')\n",
    "                list_all.append([str(methods[n]),'var ' + str(ts),MAE,std])\n",
    "            else:\n",
    "                axes[i, j].set_title(str(columns[ts]) + ' forecast')\n",
    "                list_all.append([str(methods[n]),str(columns[ts]),MAE,std])\n",
    "\n",
    "        axes[i, j].legend()"
   ]
  },
  {
   "cell_type": "code",
   "execution_count": null,
   "metadata": {},
   "outputs": [],
   "source": [
    "df_recap = pd.DataFrame(list_all, columns=['method', 'TS', 'MAE', 'std AB'])"
   ]
  },
  {
   "cell_type": "code",
   "execution_count": null,
   "metadata": {},
   "outputs": [],
   "source": [
    "df_recap.loc[df_recap['method'] == 'HHM_GGM2']['MAE'].mean()"
   ]
  },
  {
   "cell_type": "code",
   "execution_count": null,
   "metadata": {},
   "outputs": [],
   "source": [
    "df_recap.loc[df_recap['method'] == 'VAR']['MAE'].mean()"
   ]
  },
  {
   "cell_type": "code",
   "execution_count": null,
   "metadata": {},
   "outputs": [],
   "source": [
    "import pandas as pd\n",
    "import numpy as np\n",
    "res = pd.DataFrame(np.zeros((1, 5)), index=['MAE'], columns=np.unique(df_recap['method']))\n",
    "\n",
    "for m in res.columns:\n",
    "    res[m] = str(round(df_recap.loc[df_recap['method'] == m]['MAE'].mean(), 3)) + ' +/- '+ str(round(np.sqrt(np.mean(df_recap.loc[df_recap['method'] == m]['std AB']**2)), 3))\n",
    "res.to_latex()"
   ]
  },
  {
   "cell_type": "code",
   "execution_count": null,
   "metadata": {},
   "outputs": [],
   "source": [
    "df_recap.head()"
   ]
  }
 ],
 "metadata": {
  "kernelspec": {
   "display_name": "Python 3",
   "language": "python",
   "name": "python3"
  },
  "language_info": {
   "codemirror_mode": {
    "name": "ipython",
    "version": 3
   },
   "file_extension": ".py",
   "mimetype": "text/x-python",
   "name": "python",
   "nbconvert_exporter": "python",
   "pygments_lexer": "ipython3",
   "version": "3.6.10"
  }
 },
 "nbformat": 4,
 "nbformat_minor": 2
}
