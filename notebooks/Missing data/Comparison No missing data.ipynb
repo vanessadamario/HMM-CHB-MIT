{
 "cells": [
  {
   "cell_type": "code",
   "execution_count": 6,
   "metadata": {},
   "outputs": [],
   "source": [
    "%matplotlib inline\n",
    "import numpy as np\n",
    "from sklearn.covariance import empirical_covariance\n",
    "\n",
    "from regain.utils import structure_error\n",
    "from regain import datasets\n",
    "from regain.covariance.missing_multiple_graphical_lasso import MissingMultipleGraphicalLasso\n",
    "from regain.covariance.latent_time_graphical_lasso_ import LatentTimeGraphicalLasso\n",
    "\n",
    "from sklearn.datasets.base import Bunch\n",
    "import rpy2\n",
    "from rpy2.robjects.packages import importr\n",
    "import rpy2.robjects as robjects\n",
    "\n",
    "import rpy2.robjects.numpy2ri\n",
    "rpy2.robjects.numpy2ri.activate()\n",
    "\n",
    "# import R's \"base\" package\n",
    "glasso = importr('JGL')\n",
    "\n",
    "\n",
    "# config\n",
    "np.random.seed(0)\n",
    "n_samples = 100\n",
    "T = 10\n",
    "beta = 1"
   ]
  },
  {
   "cell_type": "code",
   "execution_count": 7,
   "metadata": {},
   "outputs": [],
   "source": [
    "from regain.covariance.time_graphical_lasso_ import time_graphical_lasso\n",
    "from sklearn.impute import SimpleImputer\n",
    "from regain.datasets.multi_class import make_multiclass_dataset"
   ]
  },
  {
   "cell_type": "code",
   "execution_count": 9,
   "metadata": {},
   "outputs": [
    {
     "name": "stderr",
     "output_type": "stream",
     "text": [
      "100%|██████████| 5/5 [13:36:10<00:00, 9794.05s/it] \n"
     ]
    }
   ],
   "source": [
    "from tqdm import tqdm\n",
    "import time\n",
    "import warnings \n",
    "\n",
    "import rpy2\n",
    "from rpy2.robjects.packages import importr\n",
    "import rpy2.robjects as robjects\n",
    "\n",
    "import rpy2.robjects.numpy2ri\n",
    "rpy2.robjects.numpy2ri.activate()\n",
    "\n",
    "# import R's \"base\" package\n",
    "glasso = importr('JGL')\n",
    "\n",
    "warnings.simplefilter('ignore')\n",
    "results = {}\n",
    "results_lvglasso = {}\n",
    "\n",
    "\n",
    "kernel = np.zeros((T, T))\n",
    "for i in range(T):\n",
    "    for j in range(i+1, T):\n",
    "        kernel[i, j] = beta\n",
    "\n",
    "\n",
    "thetas = []\n",
    "for n_dim_obs in   tqdm(np.logspace(1, 2, 5)):\n",
    "    res, elapsed_time = [], []\n",
    "    res1, elapsed_time1 = [], []\n",
    "    res2, elapsed_time2 = [], []\n",
    "    \n",
    "    res3, elapsed_time3 = [], []\n",
    "    tt = [] \n",
    "    \n",
    "    alpha = np.log(n_dim_obs)/n_samples\n",
    "    tau = 2*np.sqrt(n_dim_obs/n_samples)\n",
    "   # alpha2 = np.sqrt(p/n)\n",
    "    n_dim_lat = int(0.05*n_dim_obs)\n",
    "    for i in range(10):\n",
    "        mgl = MissingMultipleGraphicalLasso(alpha=alpha, kernel=kernel, psi='l1', \n",
    "                                        tol=1e-3, rtol=1e-3, verbose=0, max_iter=500)\n",
    "#         ltgl = LatentTimeGraphicalLasso(alpha=alpha, tau=tau, eta=beta,  beta=beta, psi='laplacian', \n",
    "#                                  tol=1e-3, rtol=1e-3,verbose=0, max_iter=500)\n",
    "\n",
    "        n_dim_obs = int(n_dim_obs)\n",
    "        \n",
    "        retry=True\n",
    "        while(retry):\n",
    "            try:\n",
    "                samples, _= make_multiclass_dataset(\n",
    "                    n_samples=n_samples, n_dim_obs=n_dim_obs, n_classes=10)\n",
    "                dataset = samples['gaussian']\n",
    "                tt.append(dataset.thetas)\n",
    "                retry=False\n",
    "            except AssertionError:\n",
    "                retry=True\n",
    "        \n",
    "        #to_remove = int(T*n_samples*n_dim_obs*0.05)\n",
    "        X = dataset.X\n",
    "#         X[np.random.choice(np.arange(0, T*n_samples), to_remove),\n",
    "#           np.random.choice(np.arange(0, n_dim_obs), to_remove)] = np.nan\n",
    "\n",
    "#         X_ = np.zeros((X.shape[0], n_dim_obs + n_dim_lat))\n",
    "#         X_[:] = np.nan \n",
    "#         X_[:, n_dim_lat:] = dataset.X\n",
    "        tic = time.time()\n",
    "        results_static = mgl.fit(X, dataset.y).precision_\n",
    "        tac = time.time() - tic    \n",
    "        res.append(results_static)\n",
    "        elapsed_time.append(tac)\n",
    "\n",
    "#         tic = time.time()\n",
    "#         precision_inputing = ltgl.fit(X, dataset.y).precision_\n",
    "#         tac = time.time() - tic  \n",
    "#         res3.append(precision_inputing)\n",
    "#         elapsed_time3.append(tac)\n",
    "    \n",
    "        X = [SimpleImputer(strategy='mean').fit_transform(X[dataset.y == cl])\n",
    "                        for cl in np.unique(dataset.y) ]\n",
    "        X_r = [ robjects.r.matrix(X[t], nrow=X[t].shape[0], ncol=X[t].shape[1]) for t in range(len(X))]\n",
    "        try:\n",
    "            result = glasso.JGL(X_r, 'fused', alpha, beta,**{'tol':1e-3, 'maxiter':500, 'return.whole.theta':True})#,\n",
    "                                #robjects.r.matrix(np.zeros((n_dim_obs, n_dim_lat)), nrow=n_dim_obs, ncol=n_dim_lat))\n",
    "            tac = time.time() - tic\n",
    "            res2.append(np.array(np.array([np.array(t) for t in result.rx2('theta')])))\n",
    "            elapsed_time2.append(tac)\n",
    "        except rpy2.rinterface.RRuntimeError:\n",
    "            continue\n",
    "        \n",
    "        X = dataset.X\n",
    "       \n",
    "        X = [X[dataset.y == cl] for cl in np.unique(dataset.y) ]\n",
    "        X = [x[~np.isnan(x).any(axis=1)] for x in X]\n",
    "        X_r = [ robjects.r.matrix(X[t], nrow=X[t].shape[0], ncol=X[t].shape[1]) for t in range(len(X))]\n",
    "        try:\n",
    "            result = glasso.JGL(X_r, 'fused', alpha, beta,**{'tol':1e-3, 'maxiter':500, 'return.whole.theta':True})#,\n",
    "                                #robjects.r.matrix(np.zeros((n_dim_obs, n_dim_lat)), nrow=n_dim_obs, ncol=n_dim_lat))\n",
    "            tac = time.time() - tic\n",
    "            res3.append(np.array(np.array([np.array(t) for t in result.rx2('theta')])))\n",
    "            elapsed_time3.append(tac)\n",
    "        except rpy2.rinterface.RRuntimeError:\n",
    "            continue\n",
    "    thetas.append(tt)\n",
    "    results[('mtgl', n_dim_obs)] = dict(res=res, elapsed_time=elapsed_time)\n",
    "    results[('jgl(inputing)', n_dim_obs)] = dict(res=res2, elapsed_time=elapsed_time2)\n",
    "    results[('jgl(complete)', n_dim_obs)] = dict(res=res3, elapsed_time=elapsed_time3)"
   ]
  },
  {
   "cell_type": "code",
   "execution_count": 4,
   "metadata": {},
   "outputs": [],
   "source": [
    "ress = {}\n",
    "for k, v in results.items():\n",
    "    ress[k] = v\n",
    "for k, v in results_lvglasso.items():\n",
    "    ress[k] = v"
   ]
  },
  {
   "cell_type": "code",
   "execution_count": 10,
   "metadata": {},
   "outputs": [
    {
     "data": {
      "image/png": "[encoded data removed]",
      "text/plain": [
       "<Figure size 432x288 with 1 Axes>"
      ]
     },
     "metadata": {},
     "output_type": "display_data"
    }
   ],
   "source": [
    "import pandas as pd\n",
    "from regain.utils import flatten\n",
    "from matplotlib import rcParams\n",
    "rcParams.update({'font.size': 10})\n",
    "df = pd.DataFrame(\n",
    "    flatten([[(k[0], T*int(k[1] * k[1]-1) // 2 * 1, x) \n",
    "              for x in results[k]['elapsed_time']] for k in results]),\n",
    "    columns=['method', 'n_unknowns', 'time'])\n",
    "\n",
    "import seaborn as sns\n",
    "from matplotlib import pyplot as plt\n",
    "f, ax = plt.subplots()\n",
    "#plt.yscale(\"log\")\n",
    "g = sns.lineplot(data=df, hue='method', x='n_unknowns', y='time', marker='o')\n",
    "g.set_yscale(\"log\");\n",
    "plt.grid()\n",
    "g.set_xscale(\"log\");\n",
    "# plt.savefig(\"/home/vero/Dropbox (DIBRIS)/PhD/papers/_inprearation/MachineLearning_2020/machine_learning/results_tmgl/scalability_partial_data_5_percent_JGL.pdf\", dpi=200, bbox_inches='tight',\n",
    "#            transparent=True)"
   ]
  },
  {
   "cell_type": "code",
   "execution_count": null,
   "metadata": {},
   "outputs": [],
   "source": [
    "[r.reshape((10, 33, 33)).shape for r in results[('lvglasso', 31)]['res']]"
   ]
  },
  {
   "cell_type": "code",
   "execution_count": 32,
   "metadata": {},
   "outputs": [
    {
     "name": "stderr",
     "output_type": "stream",
     "text": [
      "\n",
      "\n",
      "\n",
      "\n",
      "100%|██████████| 5/5 [00:00<00:00, 32870.72it/s]A\n"
     ]
    },
    {
     "name": "stdout",
     "output_type": "stream",
     "text": [
      "10 0\n",
      "17 1\n",
      "31 2\n",
      "56 4\n",
      "100 7\n"
     ]
    }
   ],
   "source": [
    "from importlib import reload \n",
    "\n",
    "import regain.utils; reload(regain.utils)\n",
    "from regain.utils import mean_structure_error\n",
    "n_dim_lat = []\n",
    "for n_dim_obs in tqdm(np.logspace(1, 2, 5)):\n",
    "    n_dim_lat.append(int(0.075*n_dim_obs))\n",
    "mat_results = np.zeros((5, 3))\n",
    "for i, (t, l) in enumerate(zip(thetas, n_dim_lat)):\n",
    "    _,d, _ = t[0].shape\n",
    "    print(d, l)\n",
    "   # print(results[('mgl', d)])\n",
    "    a1 = float(mean_structure_error(t, results[('mtgl', d)]['res'], multiple=True)['mcc'].split('+/-')[0])\n",
    "    mat_results[i, 0] = a1\n",
    "    a2 = float(mean_structure_error(t, [np.array(r) for r in results[('jgl(inputing)', d)]['res']], multiple=True)['mcc'].split('+/-')[0])\n",
    "    mat_results[i, 1] = a2\n",
    "#     if d> 10:\n",
    "#         print(results[('lvglasso', d)]['res'][0].shape)\n",
    "#     a3 = float(mean_structure_error(t, [np.array([r_[l:, l:] for r_ in r.reshape((10, d+l, d+l))]) for r in results[('lvglasso', d)]['res']], multiple=True)['mcc'].split('+/-')[0])\n",
    "#     mat_results[i, 2] = a3"
   ]
  },
  {
   "cell_type": "code",
   "execution_count": null,
   "metadata": {},
   "outputs": [],
   "source": [
    "324//18"
   ]
  },
  {
   "cell_type": "code",
   "execution_count": null,
   "metadata": {},
   "outputs": [],
   "source": [
    "mat_resu"
   ]
  },
  {
   "cell_type": "code",
   "execution_count": 33,
   "metadata": {},
   "outputs": [
    {
     "data": {
      "image/png": "[encoded data removed]",
      "text/plain": [
       "<Figure size 360x576 with 2 Axes>"
      ]
     },
     "metadata": {},
     "output_type": "display_data"
    }
   ],
   "source": [
    "from mpl_toolkits.axes_grid1 import make_axes_locatable\n",
    "from matplotlib import rcParams\n",
    "\n",
    "rcParams.update({'font.size':18})\n",
    "fig, ax = plt.subplots(figsize=(5,8))\n",
    "im = ax.imshow(mat_results, vmin=0, vmax=1, cmap='gist_ncar')\n",
    "divider = make_axes_locatable(ax)\n",
    "cax = divider.append_axes(\"right\", size=\"5%\", pad=0.05)\n",
    "plt.colorbar(im, cax=cax)\n",
    "\n",
    "\n",
    "# We want to show all ticks...\n",
    "ax.set_xticks(np.arange(3))\n",
    "ax.set_yticks(np.arange(5))\n",
    "# ... and label them with the respective list entries\n",
    "ax.set_xticklabels(['mtgl', 'jgl(imputing)'])\n",
    "ax.set_yticklabels(np.unique(df['n_unknowns']))\n",
    "\n",
    "# Rotate the tick labels and set their alignment.\n",
    "plt.setp(ax.get_xticklabels(), rotation=45, ha=\"right\",\n",
    "         rotation_mode=\"anchor\")\n",
    "\n",
    "# Loop over data dimensions and create text annotations.\n",
    "for i in range(5):\n",
    "    for j in range(3):\n",
    "        text = ax.text(j, i, round(mat_results[i, j],2),\n",
    "                       ha=\"center\", va=\"center\", color=\"k\")\n",
    "\n",
    "#ax.set_title(\"Harvest of local farmers (in tons/year)\")\n",
    "fig.tight_layout()\n",
    "# plt.savefig(\"../results_tmgl/MCC_latent_data_7_5_percent_missing.pdf\", dpi=200, bbox_inches='tight',\n",
    "#            transparent=True)\n",
    "# plt.show()"
   ]
  },
  {
   "cell_type": "code",
   "execution_count": null,
   "metadata": {},
   "outputs": [],
   "source": [
    "from regain.utils import mean_structure_error\n",
    "\n",
    "\n",
    "mat_results_std = np.zeros((5, 3))\n",
    "for i, (t, l) in enumerate(zip(thetas, n_dim_lat)):\n",
    "    _,d, _ = t[0].shape\n",
    "   # print(results[('mgl', d)])\n",
    "    a1 = float(mean_structure_error(t, [np.array([r_[l:, l:] for r_ in r]) for r in results[('mtgl', d)]['res']], multiple=True)['mcc'].split('+/-')[1])\n",
    "    mat_results_std[i, 0] = a1\n",
    "    a2 = float(mean_structure_error(t, [np.array(r) for r in results[('ltgl', d)]['res']], multiple=True)['mcc'].split('+/-')[1])\n",
    "    mat_results_std[i, 1] = a2\n",
    "    a3 = float(mean_structure_error(t, [np.array([r_[l:, l:] for r_ in r.reshape((10, d+l, d+l))]) for r in results[('lvglasso', d)]['res']], multiple=True)['mcc'].split('+/-')[1])\n",
    "    mat_results[i, 2] = a3"
   ]
  },
  {
   "cell_type": "code",
   "execution_count": null,
   "metadata": {},
   "outputs": [],
   "source": [
    "fig, ax = plt.subplots(figsize=(5,8))\n",
    "\n",
    "from matplotlib import rcParams\n",
    "\n",
    "rcParams.update({'font.size':18})\n",
    "im = ax.imshow(mat_results_std, vmin=0, vmax=0.3, cmap='gist_ncar')\n",
    "divider = make_axes_locatable(ax)\n",
    "cax = divider.append_axes(\"right\", size=\"5%\", pad=0.05)\n",
    "plt.colorbar(im, cax=cax)\n",
    "\n",
    "# We want to show all ticks...\n",
    "ax.set_xticks(np.arange(3))\n",
    "ax.set_yticks(np.arange(5))\n",
    "# ... and label them with the respective list entries\n",
    "ax.set_xticklabels(['mtgl', 'ltgl', 'lvglasso'])\n",
    "ax.set_yticklabels(np.unique(df['n_unknowns']))\n",
    "\n",
    "# Rotate the tick labels and set their alignment.\n",
    "plt.setp(ax.get_xticklabels(), rotation=45, ha=\"right\",\n",
    "         rotation_mode=\"anchor\")\n",
    "\n",
    "# Loop over data dimensions and create text annotations.\n",
    "for i in range(5):\n",
    "    for j in range(3):\n",
    "        text = ax.text(j, i, round(mat_results_std[i, j],2),\n",
    "                       ha=\"center\", va=\"center\", color=\"k\")\n",
    "\n",
    "#ax.set_title(\"Harvest of local farmers (in tons/year)\")\n",
    "fig.tight_layout()\n",
    "plt.savefig(\"../results_tmgl/MCC_STD_latet_data_7_5_percent_missing.pdf\", dpi=200, bbox_inches='tight',\n",
    "           transparent=True)\n",
    "plt.show()"
   ]
  },
  {
   "cell_type": "markdown",
   "metadata": {},
   "source": [
    "# ROC CURVES"
   ]
  },
  {
   "cell_type": "code",
   "execution_count": null,
   "metadata": {},
   "outputs": [],
   "source": [
    "from regain.plotting.results import plot_curve\n",
    "\n",
    "for t in thetas:\n",
    "    _,d, _ = t[0].shape\n",
    "    if d < 50:\n",
    "        _dict = {'mtgl': [np.array(r) for r in results[('mtgl',d )]['res']], \n",
    "                           'tgl(inputing)': [np.array(r) for r in results[('tgl(inputing)',d )]['res']],\n",
    "                           'mglasso': [np.array(r) for r in results[('mglasso',d )]['res']],\n",
    "                'tgl(complete)': [np.array(r) for r in results[('tgl(complete)',d )]['res']],\n",
    "                           }\n",
    "    else:\n",
    "        _dict = {'mtgl': [np.array(r) for r in results[('mtgl',d )]['res']], \n",
    "                           'tgl(inputing)': [np.array(r) for r in results[('tgl(inputing)',d )]['res']]}\n",
    "    plot_curve(t, _dict, multiple=True, filename=\"../results_tmgl/roc_curve_10_percent_\"+str(d)+\"dimensions.pdf\",\n",
    "              fontsize=20)\n",
    "    plot_curve(t, _dict, multiple=True, filename=\"../results_tmgl/roc_curve_10_percent_\"+str(d)+\"dimensions.pdf\",\n",
    "              fontsize=20, mode='pr')"
   ]
  },
  {
   "cell_type": "code",
   "execution_count": null,
   "metadata": {},
   "outputs": [],
   "source": []
  }
 ],
 "metadata": {
  "kernelspec": {
   "display_name": "Python 3",
   "language": "python",
   "name": "python3"
  },
  "language_info": {
   "codemirror_mode": {
    "name": "ipython",
    "version": 3
   },
   "file_extension": ".py",
   "mimetype": "text/x-python",
   "name": "python",
   "nbconvert_exporter": "python",
   "pygments_lexer": "ipython3",
   "version": "3.6.10"
  }
 },
 "nbformat": 4,
 "nbformat_minor": 2
}
