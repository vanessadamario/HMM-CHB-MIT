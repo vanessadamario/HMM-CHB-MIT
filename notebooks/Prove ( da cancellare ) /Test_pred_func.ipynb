{
 "cells": [
  {
   "cell_type": "code",
   "execution_count": 1,
   "metadata": {},
   "outputs": [
    {
     "name": "stderr",
     "output_type": "stream",
     "text": [
      "/Users/federicociech/.local/lib/python3.7/site-packages/sklearn/utils/deprecation.py:144: FutureWarning: The sklearn.datasets.base module is  deprecated in version 0.22 and will be removed in version 0.24. The corresponding classes / functions should instead be imported from sklearn.datasets. Anything that cannot be imported from sklearn.datasets is now part of the private API.\n",
      "  warnings.warn(message, FutureWarning)\n"
     ]
    }
   ],
   "source": [
    "from regain.datasets.hmm import generate_hmm\n",
    "from regain.hmm.hmm_graphical_lasso import HMM_GraphicalLasso \n",
    "import numpy as np\n",
    "from importlib import reload\n",
    "import regain.hmm.utils; reload(regain.hmm.utils)\n",
    "from regain.hmm.utils import results_recap,prepare_data_to_predict,cov2corr\n",
    "from regain.hmm.utils import cross_validation,spread_pred_interpretation\n",
    "import pickle as pkl\n",
    "#from notebooks.hmm.pred_func import pred_lgb, pred_LSTM, pred_VAR_VARMA, pred_Kernel_Ridge,pred_HMM_GMM\n",
    "from sklearn.metrics import mean_absolute_error\n",
    "from sklearn.metrics import mean_squared_error\n",
    "import matplotlib.pyplot as plt\n",
    "import seaborn as sns"
   ]
  },
  {
   "cell_type": "code",
   "execution_count": 2,
   "metadata": {},
   "outputs": [],
   "source": [
    "def corr_plot(corrs,covcorr = False):\n",
    "    \n",
    "    if covcorr:\n",
    "        correlations = []\n",
    "        for k in range(len(corrs)):\n",
    "            correlations.append(cov2corr(corrs[k]))\n",
    "        corrs = correlations\n",
    "        \n",
    "    N_plots = len(corrs)\n",
    "\n",
    "    N_per_rows = 3\n",
    "    N_rows = int(np.ceil(N_plots/N_per_rows))\n",
    "    f, axes = plt.subplots(N_rows, N_per_rows, figsize=(15, 10))\n",
    "\n",
    "    count = 0\n",
    "    for i in range(N_rows):\n",
    "        for j in range(N_per_rows): \n",
    "            if N_rows==1:\n",
    "                sns.heatmap(corrs[count],  ax=axes[j])            \n",
    "            else:\n",
    "                sns.heatmap(corrs[count],  ax=axes[i, j])\n",
    "            count+=1\n",
    "            if count == N_plots:\n",
    "                break\n",
    "    plt.show()"
   ]
  },
  {
   "cell_type": "code",
   "execution_count": 3,
   "metadata": {},
   "outputs": [],
   "source": [
    "N_samples = 1000\n",
    "N_states = 10\n",
    "N_TS = 10\n",
    "sigma_Normal = 1\n",
    "\n",
    "dataset = generate_hmm(n_samples= N_samples,\n",
    "                       n_states=N_states,\n",
    "                       n_dim_obs=N_TS,\n",
    "                       mode_precisions='regain_random',\n",
    "                       mode_mean = 'Normal',\n",
    "                       transition_type='fixed',\n",
    "                       sigma=sigma_Normal)"
   ]
  },
  {
   "cell_type": "code",
   "execution_count": 24,
   "metadata": {},
   "outputs": [
    {
     "data": {
      "text/plain": [
       "HMM_GraphicalLasso(alpha=15, init_params={}, max_iter=300, mode='scaled',\n",
       "                   n_clusters=10, n_jobs=-1, repetitions=5, tol=0.0001,\n",
       "                   verbose=False, warm_restart=True)"
      ]
     },
     "execution_count": 24,
     "metadata": {},
     "output_type": "execute_result"
    }
   ],
   "source": [
    "lam = 15\n",
    "max_iter = 300\n",
    "\n",
    "mdl = HMM_GraphicalLasso(alpha=lam,\n",
    "                         n_clusters=N_states,\n",
    "                         verbose=False,\n",
    "                         max_iter=max_iter,\n",
    "                         mode='scaled',\n",
    "                         warm_restart=True,\n",
    "                         repetitions=5,\n",
    "                         n_jobs=-1)\n",
    "mdl.fit(dataset['data'])"
   ]
  },
  {
   "cell_type": "code",
   "execution_count": 25,
   "metadata": {},
   "outputs": [
    {
     "name": "stdout",
     "output_type": "stream",
     "text": [
      "{'homogeneity [0, 1]': 0.8261131842475912, 'completeness [0, 1]': 0.8718072532283985, 'v_measure [0, 1]': 0.8483453642683925, 'adjusted_mutual_info [0, 1]': 0.8455876109962643, 'weighted_mean_mcc [-1, 1]': (0.3526102669527341,), 'max_cluster_mean_mcc[-1,1]': (0.37719835805669094,), 'weighted_mean_f1 [0, 1]': (0.4100702454694159,), 'max_cluster_mean_f1[0,1]': (0.4147379736785363,), 'probabilities_clusters': (array([[0.        , 0.        , 0.02857143, 0.01086957, 0.95798319,\n",
      "        0.        , 0.00990099, 0.        , 0.        , 0.02105263],\n",
      "       [0.01388889, 0.00740741, 0.        , 0.35326087, 0.        ,\n",
      "        0.        , 0.04950495, 0.        , 0.        , 0.        ],\n",
      "       [0.        , 0.99259259, 0.01428571, 0.        , 0.00840336,\n",
      "        0.        , 0.        , 0.        , 1.        , 0.        ],\n",
      "       [0.        , 0.        , 0.92857143, 0.        , 0.        ,\n",
      "        0.01639344, 0.01980198, 0.        , 0.        , 0.        ],\n",
      "       [0.        , 0.        , 0.        , 0.00543478, 0.        ,\n",
      "        0.        , 0.00990099, 0.97530864, 0.        , 0.01052632],\n",
      "       [0.01388889, 0.        , 0.01428571, 0.        , 0.00840336,\n",
      "        0.        , 0.04950495, 0.00617284, 0.        , 0.91578947],\n",
      "       [0.        , 0.        , 0.        , 0.59782609, 0.        ,\n",
      "        0.        , 0.        , 0.        , 0.        , 0.01052632],\n",
      "       [0.94444444, 0.        , 0.        , 0.01086957, 0.        ,\n",
      "        0.        , 0.00990099, 0.        , 0.        , 0.01052632],\n",
      "       [0.02777778, 0.        , 0.01428571, 0.01086957, 0.02521008,\n",
      "        0.01639344, 0.82178218, 0.01234568, 0.        , 0.03157895],\n",
      "       [0.        , 0.        , 0.        , 0.01086957, 0.        ,\n",
      "        0.96721311, 0.02970297, 0.00617284, 0.        , 0.        ]]),), 'max_probabilities_couples': ['Couple: (2, 8), Probability: 1.0, MCC: 0.0, F1_score: 0.0', 'Couple: (2, 1), Probability: 0.9925925925925926, MCC: 0.4135850959342555, F1_score: 0.3125', 'Couple: (4, 7), Probability: 0.9753086419753086, MCC: 0.5547001962252291, F1_score: 0.4', 'Couple: (9, 5), Probability: 0.9672131147540983, MCC: 0.6614378277661476, F1_score: 0.4166666666666667', 'Couple: (0, 4), Probability: 0.957983193277311, MCC: -0.01889822365046136, F1_score: 0.3448275862068966', 'Couple: (7, 0), Probability: 0.9444444444444444, MCC: 0.45049308035087, F1_score: 0.5925925925925927', 'Couple: (3, 2), Probability: 0.9285714285714286, MCC: 0.24525573579398632, F1_score: 0.380952380952381', 'Couple: (5, 9), Probability: 0.9157894736842105, MCC: 0.6142857142857143, F1_score: 0.7333333333333334', 'Couple: (8, 6), Probability: 0.8217821782178217, MCC: 0.5393193716300061, F1_score: 0.5454545454545454', 'Couple: (6, 3), Probability: 0.5978260869565217, MCC: 0.31180478223116176, F1_score: 0.4210526315789473']}\n"
     ]
    },
    {
     "name": "stderr",
     "output_type": "stream",
     "text": [
      "/Users/federicociech/.local/lib/python3.7/site-packages/sklearn/metrics/_classification.py:900: RuntimeWarning: invalid value encountered in double_scalars\n",
      "  mcc = cov_ytyp / np.sqrt(cov_ytyt * cov_ypyp)\n"
     ]
    }
   ],
   "source": [
    "res_batch = results_recap(dataset['states'], mdl.labels_, dataset['thetas'], mdl.precisions_, \n",
    "              dataset['gammas'], mdl.gammas_) \n",
    "print(res_batch)"
   ]
  },
  {
   "cell_type": "code",
   "execution_count": 26,
   "metadata": {},
   "outputs": [
    {
     "data": {
      "text/plain": [
       "array([ 0.21191089,  0.11086391,  0.21264469,  0.08177476,  0.12501091,\n",
       "        0.248176  ,  0.14701142,  0.09172825, 15.        ,  0.16137063])"
      ]
     },
     "execution_count": 26,
     "metadata": {},
     "output_type": "execute_result"
    }
   ],
   "source": [
    "mdl.lambdas"
   ]
  },
  {
   "cell_type": "code",
   "execution_count": null,
   "metadata": {},
   "outputs": [
    {
     "name": "stderr",
     "output_type": "stream",
     "text": [
      "  0%|          | 0/10 [00:00<?, ?it/s]\n",
      "  0%|          | 0/1 [00:00<?, ?it/s]\u001b[A\n",
      "100%|██████████| 1/1 [23:49<00:00, 1429.74s/it]\u001b[A\n",
      " 10%|█         | 1/10 [23:49<3:34:27, 1429.74s/it]\n",
      "  0%|          | 0/1 [00:00<?, ?it/s]\u001b[A\n",
      "100%|██████████| 1/1 [26:01<00:00, 1561.62s/it]\u001b[A\n",
      " 20%|██        | 2/10 [49:51<3:15:54, 1469.31s/it]\n",
      "  0%|          | 0/1 [00:00<?, ?it/s]\u001b[A\n",
      "100%|██████████| 1/1 [27:32<00:00, 1652.14s/it]\u001b[A\n",
      " 30%|███       | 3/10 [1:17:23<2:57:49, 1524.16s/it]\n",
      "  0%|          | 0/1 [00:00<?, ?it/s]\u001b[A\n",
      "100%|██████████| 1/1 [25:12<00:00, 1512.53s/it]\u001b[A\n",
      " 40%|████      | 4/10 [1:42:36<2:32:04, 1520.67s/it]\n",
      "  0%|          | 0/1 [00:00<?, ?it/s]\u001b[A\n",
      "100%|██████████| 1/1 [21:05<00:00, 1265.75s/it]\u001b[A\n",
      " 50%|█████     | 5/10 [2:03:41<2:00:20, 1444.20s/it]\n",
      "  0%|          | 0/1 [00:00<?, ?it/s]\u001b[A"
     ]
    }
   ],
   "source": [
    "res = cross_validation(mdl,\n",
    "       dataset['data'],\n",
    "       params={'alpha':np.linspace(5,13 ,10),\n",
    "               'n_clusters':[10]},\n",
    "       n_repetitions=5)"
   ]
  },
  {
   "cell_type": "code",
   "execution_count": 22,
   "metadata": {},
   "outputs": [
    {
     "data": {
      "image/png": "[encoded data removed]",
      "text/plain": [
       "<Figure size 1080x720 with 22 Axes>"
      ]
     },
     "metadata": {
      "needs_background": "light"
     },
     "output_type": "display_data"
    }
   ],
   "source": [
    "corr_plot(mdl.covariances_,covcorr = True)"
   ]
  },
  {
   "cell_type": "code",
   "execution_count": 23,
   "metadata": {},
   "outputs": [
    {
     "data": {
      "image/png": "[encoded data removed]",
      "text/plain": [
       "<Figure size 1080x720 with 22 Axes>"
      ]
     },
     "metadata": {
      "needs_background": "light"
     },
     "output_type": "display_data"
    }
   ],
   "source": [
    "corr_plot(dataset['correlations'])"
   ]
  },
  {
   "cell_type": "code",
   "execution_count": 41,
   "metadata": {},
   "outputs": [
    {
     "name": "stderr",
     "output_type": "stream",
     "text": [
      "  0%|          | 0/15 [00:00<?, ?it/s]\n",
      "  0%|          | 0/1 [00:00<?, ?it/s]\u001b[A\n",
      "100%|██████████| 1/1 [00:06<00:00,  6.86s/it]\u001b[A\n",
      "  7%|▋         | 1/15 [00:06<01:36,  6.86s/it]\n",
      "  0%|          | 0/1 [00:00<?, ?it/s]\u001b[A\n",
      "100%|██████████| 1/1 [00:06<00:00,  6.03s/it]\u001b[A\n",
      " 13%|█▎        | 2/15 [00:12<01:25,  6.61s/it]\n",
      "  0%|          | 0/1 [00:00<?, ?it/s]\u001b[A\n",
      "100%|██████████| 1/1 [00:06<00:00,  6.40s/it]\u001b[A\n",
      " 20%|██        | 3/15 [00:19<01:18,  6.55s/it]\n",
      "  0%|          | 0/1 [00:00<?, ?it/s]\u001b[A\n",
      "100%|██████████| 1/1 [00:07<00:00,  7.04s/it]\u001b[A\n",
      " 27%|██▋       | 4/15 [00:26<01:13,  6.70s/it]\n",
      "  0%|          | 0/1 [00:00<?, ?it/s]\u001b[A\n",
      "100%|██████████| 1/1 [00:06<00:00,  6.99s/it]\u001b[A\n",
      " 33%|███▎      | 5/15 [00:33<01:07,  6.79s/it]\n",
      "  0%|          | 0/1 [00:00<?, ?it/s]\u001b[A\n",
      "100%|██████████| 1/1 [00:06<00:00,  6.27s/it]\u001b[A\n",
      " 40%|████      | 6/15 [00:39<00:59,  6.63s/it]\n",
      "  0%|          | 0/1 [00:00<?, ?it/s]\u001b[A\n",
      "100%|██████████| 1/1 [00:05<00:00,  5.87s/it]\u001b[A\n",
      " 47%|████▋     | 7/15 [00:45<00:51,  6.40s/it]\n",
      "  0%|          | 0/1 [00:00<?, ?it/s]\u001b[A\n",
      "100%|██████████| 1/1 [00:04<00:00,  4.95s/it]\u001b[A\n",
      " 53%|█████▎    | 8/15 [00:50<00:41,  5.97s/it]\n",
      "  0%|          | 0/1 [00:00<?, ?it/s]\u001b[A\n",
      "100%|██████████| 1/1 [00:05<00:00,  5.80s/it]\u001b[A\n",
      " 60%|██████    | 9/15 [00:56<00:35,  5.92s/it]\n",
      "  0%|          | 0/1 [00:00<?, ?it/s]\u001b[A\n",
      "100%|██████████| 1/1 [00:04<00:00,  4.99s/it]\u001b[A\n",
      " 67%|██████▋   | 10/15 [01:01<00:28,  5.64s/it]\n",
      "  0%|          | 0/1 [00:00<?, ?it/s]\u001b[A\n",
      "100%|██████████| 1/1 [00:05<00:00,  5.05s/it]\u001b[A\n",
      " 73%|███████▎  | 11/15 [01:06<00:21,  5.46s/it]\n",
      "  0%|          | 0/1 [00:00<?, ?it/s]\u001b[A\n",
      "100%|██████████| 1/1 [00:05<00:00,  5.06s/it]\u001b[A\n",
      " 80%|████████  | 12/15 [01:11<00:16,  5.34s/it]\n",
      "  0%|          | 0/1 [00:00<?, ?it/s]\u001b[A\n",
      "100%|██████████| 1/1 [00:05<00:00,  5.13s/it]\u001b[A\n",
      " 87%|████████▋ | 13/15 [01:16<00:10,  5.28s/it]\n",
      "  0%|          | 0/1 [00:00<?, ?it/s]\u001b[A\n",
      "100%|██████████| 1/1 [00:05<00:00,  5.02s/it]\u001b[A\n",
      " 93%|█████████▎| 14/15 [01:21<00:05,  5.20s/it]\n",
      "  0%|          | 0/1 [00:00<?, ?it/s]\u001b[A\n",
      "100%|██████████| 1/1 [00:04<00:00,  4.97s/it]\u001b[A\n",
      "100%|██████████| 15/15 [01:26<00:00,  5.76s/it]\n"
     ]
    }
   ],
   "source": [
    "clusters_list = [N_states]\n",
    "alpha_list = np.linspace(15, 25, 15)\n",
    "lam = 3.593813663804626\n",
    "max_iter = 200\n",
    "\n",
    "mdl = HMM_GraphicalLasso(alpha=lam,\n",
    "                         n_clusters=N_states,\n",
    "                         verbose=False,\n",
    "                         max_iter=max_iter,\n",
    "                         mode='scaled',\n",
    "                         warm_restart=True,\n",
    "                         repetitions=5,\n",
    "                         n_jobs=-1)\n",
    "\n",
    "res = cross_validation(mdl,\n",
    "                       dataset['data'],\n",
    "                       params={'alpha':alpha_list,\n",
    "                               'n_clusters':clusters_list},\n",
    "                       mode='bic',\n",
    "                       n_repetitions=1)"
   ]
  },
  {
   "cell_type": "code",
   "execution_count": 42,
   "metadata": {},
   "outputs": [
    {
     "data": {
      "text/plain": [
       "((25.0, 10),\n",
       " {(15.0, 10): {'bics': [35343.65477269161],\n",
       "   'mean_bic': 35343.65477269161,\n",
       "   'std_bic': 0.0,\n",
       "   'connectivity_matrix': array([[1., 1., 0., ..., 0., 0., 0.],\n",
       "          [1., 1., 0., ..., 0., 0., 0.],\n",
       "          [0., 0., 1., ..., 0., 0., 0.],\n",
       "          ...,\n",
       "          [0., 0., 0., ..., 1., 1., 0.],\n",
       "          [0., 0., 0., ..., 1., 1., 0.],\n",
       "          [0., 0., 0., ..., 0., 0., 1.]]),\n",
       "   'dispersion_coefficient': 1.1451053827160491,\n",
       "   'estimators': [HMM_GraphicalLasso(alpha=15.0, init_params={}, max_iter=200, mode='scaled',\n",
       "                       n_clusters=10, n_jobs=-1, repetitions=5, tol=0.0001,\n",
       "                       verbose=False, warm_restart=True)]},\n",
       "  (15.714285714285714, 10): {'bics': [35283.73748883275],\n",
       "   'mean_bic': 35283.73748883275,\n",
       "   'std_bic': 0.0,\n",
       "   'connectivity_matrix': array([[1., 1., 0., ..., 0., 0., 0.],\n",
       "          [1., 1., 0., ..., 0., 0., 0.],\n",
       "          [0., 0., 1., ..., 0., 0., 0.],\n",
       "          ...,\n",
       "          [0., 0., 0., ..., 1., 1., 0.],\n",
       "          [0., 0., 0., ..., 1., 1., 0.],\n",
       "          [0., 0., 0., ..., 0., 0., 1.]]),\n",
       "   'dispersion_coefficient': 1.1451053827160491,\n",
       "   'estimators': [HMM_GraphicalLasso(alpha=15.714285714285714, init_params={}, max_iter=200,\n",
       "                       mode='scaled', n_clusters=10, n_jobs=-1, repetitions=5,\n",
       "                       tol=0.0001, verbose=False, warm_restart=True)]},\n",
       "  (16.428571428571427, 10): {'bics': [35209.91750065239],\n",
       "   'mean_bic': 35209.91750065239,\n",
       "   'std_bic': 0.0,\n",
       "   'connectivity_matrix': array([[1., 1., 0., ..., 0., 0., 0.],\n",
       "          [1., 1., 0., ..., 0., 0., 0.],\n",
       "          [0., 0., 1., ..., 0., 0., 0.],\n",
       "          ...,\n",
       "          [0., 0., 0., ..., 1., 1., 0.],\n",
       "          [0., 0., 0., ..., 1., 1., 0.],\n",
       "          [0., 0., 0., ..., 0., 0., 1.]]),\n",
       "   'dispersion_coefficient': 1.1451053827160491,\n",
       "   'estimators': [HMM_GraphicalLasso(alpha=16.428571428571427, init_params={}, max_iter=200,\n",
       "                       mode='scaled', n_clusters=10, n_jobs=-1, repetitions=5,\n",
       "                       tol=0.0001, verbose=False, warm_restart=True)]},\n",
       "  (17.142857142857142, 10): {'bics': [35094.046002018746],\n",
       "   'mean_bic': 35094.046002018746,\n",
       "   'std_bic': 0.0,\n",
       "   'connectivity_matrix': array([[1., 1., 0., ..., 0., 0., 0.],\n",
       "          [1., 1., 0., ..., 0., 0., 0.],\n",
       "          [0., 0., 1., ..., 0., 0., 0.],\n",
       "          ...,\n",
       "          [0., 0., 0., ..., 1., 1., 0.],\n",
       "          [0., 0., 0., ..., 1., 1., 0.],\n",
       "          [0., 0., 0., ..., 0., 0., 1.]]),\n",
       "   'dispersion_coefficient': 1.1451053827160491,\n",
       "   'estimators': [HMM_GraphicalLasso(alpha=17.142857142857142, init_params={}, max_iter=200,\n",
       "                       mode='scaled', n_clusters=10, n_jobs=-1, repetitions=5,\n",
       "                       tol=0.0001, verbose=False, warm_restart=True)]},\n",
       "  (17.857142857142858, 10): {'bics': [35018.66020033733],\n",
       "   'mean_bic': 35018.66020033733,\n",
       "   'std_bic': 0.0,\n",
       "   'connectivity_matrix': array([[1., 1., 0., ..., 0., 0., 0.],\n",
       "          [1., 1., 0., ..., 0., 0., 0.],\n",
       "          [0., 0., 1., ..., 0., 0., 0.],\n",
       "          ...,\n",
       "          [0., 0., 0., ..., 1., 1., 0.],\n",
       "          [0., 0., 0., ..., 1., 1., 0.],\n",
       "          [0., 0., 0., ..., 0., 0., 1.]]),\n",
       "   'dispersion_coefficient': 1.1451053827160491,\n",
       "   'estimators': [HMM_GraphicalLasso(alpha=17.857142857142858, init_params={}, max_iter=200,\n",
       "                       mode='scaled', n_clusters=10, n_jobs=-1, repetitions=5,\n",
       "                       tol=0.0001, verbose=False, warm_restart=True)]},\n",
       "  (18.571428571428573, 10): {'bics': [34970.62459722176],\n",
       "   'mean_bic': 34970.62459722176,\n",
       "   'std_bic': 0.0,\n",
       "   'connectivity_matrix': array([[1., 1., 0., ..., 0., 0., 0.],\n",
       "          [1., 1., 0., ..., 0., 0., 0.],\n",
       "          [0., 0., 1., ..., 0., 0., 0.],\n",
       "          ...,\n",
       "          [0., 0., 0., ..., 1., 1., 0.],\n",
       "          [0., 0., 0., ..., 1., 1., 0.],\n",
       "          [0., 0., 0., ..., 0., 0., 1.]]),\n",
       "   'dispersion_coefficient': 1.1451053827160491,\n",
       "   'estimators': [HMM_GraphicalLasso(alpha=18.571428571428573, init_params={}, max_iter=200,\n",
       "                       mode='scaled', n_clusters=10, n_jobs=-1, repetitions=5,\n",
       "                       tol=0.0001, verbose=False, warm_restart=True)]},\n",
       "  (19.285714285714285, 10): {'bics': [34936.323257119264],\n",
       "   'mean_bic': 34936.323257119264,\n",
       "   'std_bic': 0.0,\n",
       "   'connectivity_matrix': array([[1., 1., 0., ..., 0., 0., 0.],\n",
       "          [1., 1., 0., ..., 0., 0., 0.],\n",
       "          [0., 0., 1., ..., 0., 0., 0.],\n",
       "          ...,\n",
       "          [0., 0., 0., ..., 1., 1., 0.],\n",
       "          [0., 0., 0., ..., 1., 1., 0.],\n",
       "          [0., 0., 0., ..., 0., 0., 1.]]),\n",
       "   'dispersion_coefficient': 1.1451053827160491,\n",
       "   'estimators': [HMM_GraphicalLasso(alpha=19.285714285714285, init_params={}, max_iter=200,\n",
       "                       mode='scaled', n_clusters=10, n_jobs=-1, repetitions=5,\n",
       "                       tol=0.0001, verbose=False, warm_restart=True)]},\n",
       "  (20.0, 10): {'bics': [34943.63553477247],\n",
       "   'mean_bic': 34943.63553477247,\n",
       "   'std_bic': 0.0,\n",
       "   'connectivity_matrix': array([[1., 1., 0., ..., 0., 0., 0.],\n",
       "          [1., 1., 0., ..., 0., 0., 0.],\n",
       "          [0., 0., 1., ..., 0., 0., 0.],\n",
       "          ...,\n",
       "          [0., 0., 0., ..., 1., 1., 0.],\n",
       "          [0., 0., 0., ..., 1., 1., 0.],\n",
       "          [0., 0., 0., ..., 0., 0., 1.]]),\n",
       "   'dispersion_coefficient': 1.1451053827160491,\n",
       "   'estimators': [HMM_GraphicalLasso(alpha=20.0, init_params={}, max_iter=200, mode='scaled',\n",
       "                       n_clusters=10, n_jobs=-1, repetitions=5, tol=0.0001,\n",
       "                       verbose=False, warm_restart=True)]},\n",
       "  (20.714285714285715, 10): {'bics': [34909.500619249266],\n",
       "   'mean_bic': 34909.500619249266,\n",
       "   'std_bic': 0.0,\n",
       "   'connectivity_matrix': array([[1., 1., 0., ..., 0., 0., 0.],\n",
       "          [1., 1., 0., ..., 0., 0., 0.],\n",
       "          [0., 0., 1., ..., 0., 0., 0.],\n",
       "          ...,\n",
       "          [0., 0., 0., ..., 1., 1., 0.],\n",
       "          [0., 0., 0., ..., 1., 1., 0.],\n",
       "          [0., 0., 0., ..., 0., 0., 1.]]),\n",
       "   'dispersion_coefficient': 1.1451053827160491,\n",
       "   'estimators': [HMM_GraphicalLasso(alpha=20.714285714285715, init_params={}, max_iter=200,\n",
       "                       mode='scaled', n_clusters=10, n_jobs=-1, repetitions=5,\n",
       "                       tol=0.0001, verbose=False, warm_restart=True)]},\n",
       "  (21.42857142857143, 10): {'bics': [34861.13898569377],\n",
       "   'mean_bic': 34861.13898569377,\n",
       "   'std_bic': 0.0,\n",
       "   'connectivity_matrix': array([[1., 1., 0., ..., 0., 0., 0.],\n",
       "          [1., 1., 0., ..., 0., 0., 0.],\n",
       "          [0., 0., 1., ..., 0., 0., 0.],\n",
       "          ...,\n",
       "          [0., 0., 0., ..., 1., 1., 0.],\n",
       "          [0., 0., 0., ..., 1., 1., 0.],\n",
       "          [0., 0., 0., ..., 0., 0., 1.]]),\n",
       "   'dispersion_coefficient': 1.1451053827160491,\n",
       "   'estimators': [HMM_GraphicalLasso(alpha=21.42857142857143, init_params={}, max_iter=200,\n",
       "                       mode='scaled', n_clusters=10, n_jobs=-1, repetitions=5,\n",
       "                       tol=0.0001, verbose=False, warm_restart=True)]},\n",
       "  (22.142857142857142, 10): {'bics': [34868.27511739607],\n",
       "   'mean_bic': 34868.27511739607,\n",
       "   'std_bic': 0.0,\n",
       "   'connectivity_matrix': array([[1., 1., 0., ..., 0., 0., 0.],\n",
       "          [1., 1., 0., ..., 0., 0., 0.],\n",
       "          [0., 0., 1., ..., 0., 0., 0.],\n",
       "          ...,\n",
       "          [0., 0., 0., ..., 1., 1., 0.],\n",
       "          [0., 0., 0., ..., 1., 1., 0.],\n",
       "          [0., 0., 0., ..., 0., 0., 1.]]),\n",
       "   'dispersion_coefficient': 1.1451053827160491,\n",
       "   'estimators': [HMM_GraphicalLasso(alpha=22.142857142857142, init_params={}, max_iter=200,\n",
       "                       mode='scaled', n_clusters=10, n_jobs=-1, repetitions=5,\n",
       "                       tol=0.0001, verbose=False, warm_restart=True)]},\n",
       "  (22.857142857142858, 10): {'bics': [34875.76120184965],\n",
       "   'mean_bic': 34875.76120184965,\n",
       "   'std_bic': 0.0,\n",
       "   'connectivity_matrix': array([[1., 1., 0., ..., 0., 0., 0.],\n",
       "          [1., 1., 0., ..., 0., 0., 0.],\n",
       "          [0., 0., 1., ..., 0., 0., 0.],\n",
       "          ...,\n",
       "          [0., 0., 0., ..., 1., 1., 0.],\n",
       "          [0., 0., 0., ..., 1., 1., 0.],\n",
       "          [0., 0., 0., ..., 0., 0., 1.]]),\n",
       "   'dispersion_coefficient': 1.1451053827160491,\n",
       "   'estimators': [HMM_GraphicalLasso(alpha=22.857142857142858, init_params={}, max_iter=200,\n",
       "                       mode='scaled', n_clusters=10, n_jobs=-1, repetitions=5,\n",
       "                       tol=0.0001, verbose=False, warm_restart=True)]},\n",
       "  (23.57142857142857, 10): {'bics': [34883.814066649276],\n",
       "   'mean_bic': 34883.814066649276,\n",
       "   'std_bic': 0.0,\n",
       "   'connectivity_matrix': array([[1., 1., 0., ..., 0., 0., 0.],\n",
       "          [1., 1., 0., ..., 0., 0., 0.],\n",
       "          [0., 0., 1., ..., 0., 0., 0.],\n",
       "          ...,\n",
       "          [0., 0., 0., ..., 1., 1., 0.],\n",
       "          [0., 0., 0., ..., 1., 1., 0.],\n",
       "          [0., 0., 0., ..., 0., 0., 1.]]),\n",
       "   'dispersion_coefficient': 1.1451053827160491,\n",
       "   'estimators': [HMM_GraphicalLasso(alpha=23.57142857142857, init_params={}, max_iter=200,\n",
       "                       mode='scaled', n_clusters=10, n_jobs=-1, repetitions=5,\n",
       "                       tol=0.0001, verbose=False, warm_restart=True)]},\n",
       "  (24.285714285714285, 10): {'bics': [34878.46984670783],\n",
       "   'mean_bic': 34878.46984670783,\n",
       "   'std_bic': 0.0,\n",
       "   'connectivity_matrix': array([[1., 1., 0., ..., 0., 0., 0.],\n",
       "          [1., 1., 0., ..., 0., 0., 0.],\n",
       "          [0., 0., 1., ..., 0., 0., 0.],\n",
       "          ...,\n",
       "          [0., 0., 0., ..., 1., 1., 0.],\n",
       "          [0., 0., 0., ..., 1., 1., 0.],\n",
       "          [0., 0., 0., ..., 0., 0., 1.]]),\n",
       "   'dispersion_coefficient': 1.1451053827160491,\n",
       "   'estimators': [HMM_GraphicalLasso(alpha=24.285714285714285, init_params={}, max_iter=200,\n",
       "                       mode='scaled', n_clusters=10, n_jobs=-1, repetitions=5,\n",
       "                       tol=0.0001, verbose=False, warm_restart=True)]},\n",
       "  (25.0, 10): {'bics': [34803.3909555133],\n",
       "   'mean_bic': 34803.3909555133,\n",
       "   'std_bic': 0.0,\n",
       "   'connectivity_matrix': array([[1., 1., 0., ..., 0., 0., 0.],\n",
       "          [1., 1., 0., ..., 0., 0., 0.],\n",
       "          [0., 0., 1., ..., 0., 0., 0.],\n",
       "          ...,\n",
       "          [0., 0., 0., ..., 1., 1., 0.],\n",
       "          [0., 0., 0., ..., 1., 1., 0.],\n",
       "          [0., 0., 0., ..., 0., 0., 1.]]),\n",
       "   'dispersion_coefficient': 1.1451053827160491,\n",
       "   'estimators': [HMM_GraphicalLasso(alpha=25.0, init_params={}, max_iter=200, mode='scaled',\n",
       "                       n_clusters=10, n_jobs=-1, repetitions=5, tol=0.0001,\n",
       "                       verbose=False, warm_restart=True)]}})"
      ]
     },
     "execution_count": 42,
     "metadata": {},
     "output_type": "execute_result"
    }
   ],
   "source": [
    "res"
   ]
  },
  {
   "cell_type": "code",
   "execution_count": 5,
   "metadata": {},
   "outputs": [],
   "source": [
    "alpha_list = np.linspace(1, 40, 15)"
   ]
  },
  {
   "cell_type": "code",
   "execution_count": 6,
   "metadata": {},
   "outputs": [
    {
     "data": {
      "text/plain": [
       "array([ 1.        ,  3.78571429,  6.57142857,  9.35714286, 12.14285714,\n",
       "       14.92857143, 17.71428571, 20.5       , 23.28571429, 26.07142857,\n",
       "       28.85714286, 31.64285714, 34.42857143, 37.21428571, 40.        ])"
      ]
     },
     "execution_count": 6,
     "metadata": {},
     "output_type": "execute_result"
    }
   ],
   "source": [
    "alpha_list"
   ]
  },
  {
   "cell_type": "code",
   "execution_count": 7,
   "metadata": {},
   "outputs": [
    {
     "name": "stderr",
     "output_type": "stream",
     "text": [
      "/Users/federicociech/.local/lib/python3.7/site-packages/sklearn/metrics/_classification.py:900: RuntimeWarning: invalid value encountered in double_scalars\n",
      "  mcc = cov_ytyp / np.sqrt(cov_ytyt * cov_ypyp)\n",
      "/Users/federicociech/.local/lib/python3.7/site-packages/sklearn/metrics/_classification.py:900: RuntimeWarning: invalid value encountered in double_scalars\n",
      "  mcc = cov_ytyp / np.sqrt(cov_ytyt * cov_ypyp)\n",
      "/Users/federicociech/.local/lib/python3.7/site-packages/sklearn/metrics/_classification.py:900: RuntimeWarning: invalid value encountered in double_scalars\n",
      "  mcc = cov_ytyp / np.sqrt(cov_ytyt * cov_ypyp)\n",
      "/Users/federicociech/.local/lib/python3.7/site-packages/sklearn/metrics/_classification.py:900: RuntimeWarning: invalid value encountered in double_scalars\n",
      "  mcc = cov_ytyp / np.sqrt(cov_ytyt * cov_ypyp)\n",
      "/Users/federicociech/.local/lib/python3.7/site-packages/sklearn/metrics/_classification.py:900: RuntimeWarning: invalid value encountered in double_scalars\n",
      "  mcc = cov_ytyp / np.sqrt(cov_ytyt * cov_ypyp)\n",
      "/Users/federicociech/.local/lib/python3.7/site-packages/sklearn/metrics/_classification.py:900: RuntimeWarning: invalid value encountered in double_scalars\n",
      "  mcc = cov_ytyp / np.sqrt(cov_ytyt * cov_ypyp)\n",
      "/Users/federicociech/.local/lib/python3.7/site-packages/sklearn/metrics/_classification.py:900: RuntimeWarning: invalid value encountered in double_scalars\n",
      "  mcc = cov_ytyp / np.sqrt(cov_ytyt * cov_ypyp)\n",
      "/Users/federicociech/.local/lib/python3.7/site-packages/sklearn/metrics/_classification.py:900: RuntimeWarning: invalid value encountered in double_scalars\n",
      "  mcc = cov_ytyp / np.sqrt(cov_ytyt * cov_ypyp)\n",
      "/Users/federicociech/.local/lib/python3.7/site-packages/sklearn/metrics/_classification.py:900: RuntimeWarning: invalid value encountered in double_scalars\n",
      "  mcc = cov_ytyp / np.sqrt(cov_ytyt * cov_ypyp)\n",
      "/Users/federicociech/.local/lib/python3.7/site-packages/sklearn/metrics/_classification.py:900: RuntimeWarning: invalid value encountered in double_scalars\n",
      "  mcc = cov_ytyp / np.sqrt(cov_ytyt * cov_ypyp)\n"
     ]
    }
   ],
   "source": [
    "from regain.hmm.incremental_hmm_graphical_lasso import Incremental_HMM_GraphicalLasso as IncHMM\n",
    "init_params = {'clustering':'gmm', 'probabilities':'random_uniform'}\n",
    "#perc_increm = 0.1\n",
    "lambda_GL = 30\n",
    "toll = 1e-4\n",
    "max_iterations = 200\n",
    "reps = 5\n",
    "\n",
    "lists_perc_increm =[0.01,0.025,0.05,0.075,0.1,0.125, 0.15,0.2,0.25,0.3]# [0.025,0.05,0.075,0.1,0.125, 0.15]#,0.2,0.25,0.3,0.35,0.4,0.45,0.5]\n",
    "v_meas_res = []\n",
    "mcc_res= []\n",
    "lam_mem = []\n",
    "\n",
    "for perc_increm in lists_perc_increm:\n",
    "\n",
    "    mdl_Inc = IncHMM(n_clusters=N_states,\n",
    "                 alpha=lambda_GL,\n",
    "                 n_for_init=int(N_samples*(1-perc_increm)),\n",
    "                 max_iter=max_iterations,\n",
    "                 tol=toll,\n",
    "                 #init_params = init_params,\n",
    "                 verbose=False,\n",
    "                 warm_restart=True,\n",
    "                 repetitions=reps,\n",
    "                 n_jobs=-1)\n",
    "    mdl_Inc.fit(dataset['data'])\n",
    "    lam_mem.append(mdl_Inc.lambdas)\n",
    "    res_increm = results_recap(dataset['states'], mdl_Inc.labels_, dataset['thetas'], mdl_Inc.precisions_, \n",
    "                  dataset['gammas'], mdl_Inc.gammas_)\n",
    "    v_meas_res.append(res_increm['v_measure [0, 1]'])\n",
    "    mcc_res.append(res_increm['weighted_mean_mcc [-1, 1]'][0])"
   ]
  },
  {
   "cell_type": "code",
   "execution_count": 15,
   "metadata": {},
   "outputs": [
    {
     "name": "stdout",
     "output_type": "stream",
     "text": [
      "[(0.5777742693643927,), (0.479092144765698,), (0.26179247311641857,), (0.4829226363867948,), (0.46767310527539835,)]\n"
     ]
    }
   ],
   "source": [
    "print(mcc_res)"
   ]
  },
  {
   "cell_type": "code",
   "execution_count": 14,
   "metadata": {},
   "outputs": [
    {
     "name": "stdout",
     "output_type": "stream",
     "text": [
      "[0.8923866732964255, 0.8635856180532978, 0.8072036212044827, 0.7722228889348347, 0.7458461945161785]\n"
     ]
    }
   ],
   "source": [
    "print(v_meas_res)"
   ]
  },
  {
   "cell_type": "code",
   "execution_count": 9,
   "metadata": {},
   "outputs": [
    {
     "name": "stdout",
     "output_type": "stream",
     "text": [
      "[array([0.19823597, 0.11286285, 0.12857236, 0.28206312, 0.123373  ]), array([0.12675599, 0.12421914, 0.19799463, 0.11353725, 0.28284172]), array([0.10033442, 0.15042742, 0.20402979, 0.16349725, 0.17539601])]\n"
     ]
    }
   ],
   "source": [
    "print(lam_mem)"
   ]
  },
  {
   "cell_type": "code",
   "execution_count": 17,
   "metadata": {},
   "outputs": [
    {
     "data": {
      "text/plain": [
       "0.9151741407171804"
      ]
     },
     "execution_count": 17,
     "metadata": {},
     "output_type": "execute_result"
    }
   ],
   "source": [
    "res_batch['v_measure [0, 1]']"
   ]
  },
  {
   "cell_type": "code",
   "execution_count": 19,
   "metadata": {},
   "outputs": [
    {
     "data": {
      "text/plain": [
       "0.8060296098780511"
      ]
     },
     "execution_count": 19,
     "metadata": {},
     "output_type": "execute_result"
    }
   ],
   "source": [
    "res_batch['weighted_mean_mcc [-1, 1]'][0]"
   ]
  },
  {
   "cell_type": "code",
   "execution_count": 21,
   "metadata": {},
   "outputs": [
    {
     "data": {
      "text/plain": [
       "array([[0.71681519],\n",
       "       [0.59438529],\n",
       "       [0.32479263],\n",
       "       [0.59913759],\n",
       "       [0.58021827]])"
      ]
     },
     "execution_count": 21,
     "metadata": {},
     "output_type": "execute_result"
    }
   ],
   "source": [
    "mcc_res/res_batch['weighted_mean_mcc [-1, 1]'][0]"
   ]
  },
  {
   "cell_type": "code",
   "execution_count": 22,
   "metadata": {},
   "outputs": [
    {
     "data": {
      "text/plain": [
       "array([0.9751004 , 0.94362983, 0.88202189, 0.84379885, 0.81497735])"
      ]
     },
     "execution_count": 22,
     "metadata": {},
     "output_type": "execute_result"
    }
   ],
   "source": [
    "v_meas_res/res_batch['v_measure [0, 1]']"
   ]
  },
  {
   "cell_type": "code",
   "execution_count": 9,
   "metadata": {},
   "outputs": [],
   "source": [
    "perc_batch = [1-perc for perc in lists_perc_increm]"
   ]
  },
  {
   "cell_type": "code",
   "execution_count": 13,
   "metadata": {},
   "outputs": [
    {
     "data": {
      "text/plain": [
       "Text(0, 0.5, '(V_measure_(batch+incremental))/V_measure_all_batch')"
      ]
     },
     "execution_count": 13,
     "metadata": {},
     "output_type": "execute_result"
    },
    {
     "data": {
      "image/png": "[encoded data removed]",
      "text/plain": [
       "<Figure size 432x288 with 1 Axes>"
      ]
     },
     "metadata": {
      "needs_background": "light"
     },
     "output_type": "display_data"
    }
   ],
   "source": [
    "plt.plot(perc_batch,v_meas_res/res_batch['v_measure [0, 1]'])\n",
    "plt.xlabel('fraction of batch training ')\n",
    "plt.ylabel('(V_measure_(batch+incremental))/V_measure_all_batch')"
   ]
  },
  {
   "cell_type": "code",
   "execution_count": 12,
   "metadata": {},
   "outputs": [
    {
     "data": {
      "text/plain": [
       "Text(0, 0.5, '(MCC_(batch+incremental))/MCC_all_batch')"
      ]
     },
     "execution_count": 12,
     "metadata": {},
     "output_type": "execute_result"
    },
    {
     "data": {
      "image/png": "[encoded data removed]",
      "text/plain": [
       "<Figure size 432x288 with 1 Axes>"
      ]
     },
     "metadata": {
      "needs_background": "light"
     },
     "output_type": "display_data"
    }
   ],
   "source": [
    "plt.plot(perc_batch,mcc_res/res_batch['weighted_mean_mcc [-1, 1]'][0])\n",
    "plt.xlabel('fraction of batch training ')\n",
    "plt.ylabel('(MCC_(batch+incremental))/MCC_all_batch')"
   ]
  },
  {
   "cell_type": "code",
   "execution_count": null,
   "metadata": {},
   "outputs": [],
   "source": []
  }
 ],
 "metadata": {
  "kernelspec": {
   "display_name": "Python 3",
   "language": "python",
   "name": "python3"
  },
  "language_info": {
   "codemirror_mode": {
    "name": "ipython",
    "version": 3
   },
   "file_extension": ".py",
   "mimetype": "text/x-python",
   "name": "python",
   "nbconvert_exporter": "python",
   "pygments_lexer": "ipython3",
   "version": "3.7.4"
  }
 },
 "nbformat": 4,
 "nbformat_minor": 2
}
